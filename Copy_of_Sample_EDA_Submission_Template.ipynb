{
  "nbformat": 4,
  "nbformat_minor": 0,
  "metadata": {
    "colab": {
      "private_outputs": true,
      "provenance": [],
      "collapsed_sections": [
        "vncDsAP0Gaoa",
        "FJNUwmbgGyua",
        "w6K7xa23Elo4",
        "yQaldy8SH6Dl",
        "PH-0ReGfmX4f",
        "mDgbUHAGgjLW",
        "O_i_v8NEhb9l",
        "HhfV-JJviCcP",
        "Y3lxredqlCYt",
        "3RnN4peoiCZX",
        "x71ZqKXriCWQ",
        "7hBIi_osiCS2",
        "JlHwYmJAmNHm",
        "35m5QtbWiB9F",
        "PoPl-ycgm1ru",
        "H0kj-8xxnORC",
        "nA9Y7ga8ng1Z",
        "PBTbrJXOngz2",
        "u3PMJOP6ngxN",
        "dauF4eBmngu3",
        "bKJF3rekwFvQ",
        "MSa1f5Uengrz",
        "GF8Ens_Soomf",
        "0wOQAZs5pc--",
        "K5QZ13OEpz2H",
        "lQ7QKXXCp7Bj",
        "448CDAPjqfQr",
        "KSlN3yHqYklG",
        "t6dVpIINYklI",
        "ijmpgYnKYklI",
        "-JiQyfWJYklI",
        "EM7whBJCYoAo",
        "fge-S5ZAYoAp",
        "85gYPyotYoAp",
        "RoGjAbkUYoAp",
        "4Of9eVA-YrdM",
        "iky9q4vBYrdO",
        "F6T5p64dYrdO",
        "y-Ehk30pYrdP",
        "bamQiAODYuh1",
        "QHF8YVU7Yuh3",
        "GwzvFGzlYuh3",
        "qYpmQ266Yuh3",
        "OH-pJp9IphqM",
        "bbFf2-_FphqN",
        "_ouA3fa0phqN",
        "Seke61FWphqN",
        "PIIx-8_IphqN",
        "t27r6nlMphqO",
        "r2jJGEOYphqO",
        "b0JNsNcRphqO",
        "BZR9WyysphqO",
        "jj7wYXLtphqO",
        "eZrbJ2SmphqO",
        "rFu4xreNphqO",
        "YJ55k-q6phqO",
        "gCFgpxoyphqP",
        "OVtJsKN_phqQ",
        "lssrdh5qphqQ",
        "U2RJ9gkRphqQ",
        "1M8mcRywphqQ",
        "tgIPom80phqQ",
        "JMzcOPDDphqR",
        "x-EpHcCOp1ci",
        "X_VqEhTip1ck",
        "8zGJKyg5p1ck",
        "PVzmfK_Ep1ck",
        "n3dbpmDWp1ck",
        "ylSl6qgtp1ck",
        "ZWILFDl5p1ck",
        "M7G43BXep1ck",
        "Ag9LCva-p1cl",
        "E6MkPsBcp1cl",
        "2cELzS2fp1cl",
        "3MPXvC8up1cl",
        "NC_X3p0fY2L0",
        "UV0SzAkaZNRQ",
        "YPEH6qLeZNRQ",
        "q29F0dvdveiT",
        "EXh0U9oCveiU",
        "22aHeOlLveiV",
        "JcMwzZxoAimU",
        "8G2x9gOozGDZ",
        "gCX9965dhzqZ",
        "gIfDvo9L0UH2"
      ],
      "cell_execution_strategy": "setup",
      "include_colab_link": true
    },
    "kernelspec": {
      "name": "python3",
      "display_name": "Python 3"
    },
    "language_info": {
      "name": "python"
    }
  },
  "cells": [
    {
      "cell_type": "markdown",
      "metadata": {
        "id": "view-in-github",
        "colab_type": "text"
      },
      "source": [
        "<a href=\"https://colab.research.google.com/github/naina-dot/Automobile_Analysis_Capstone_Project/blob/main/Copy_of_Sample_EDA_Submission_Template.ipynb\" target=\"_parent\"><img src=\"https://colab.research.google.com/assets/colab-badge.svg\" alt=\"Open In Colab\"/></a>"
      ]
    },
    {
      "cell_type": "markdown",
      "source": [
        "# **Project Name**    -  Enhancing Business Strategies through Automobile Data Analytics\n",
        "\n"
      ],
      "metadata": {
        "id": "vncDsAP0Gaoa"
      }
    },
    {
      "cell_type": "markdown",
      "source": [
        "##### **Project Type**    - EDA/Regression/Classification/Unsupervised\n",
        "##### **Contribution**    - Individual\n",
        "##### **Team Member -     Naina Mehta\n"
      ],
      "metadata": {
        "id": "beRrZCGUAJYm"
      }
    },
    {
      "cell_type": "markdown",
      "source": [
        "# **Project Summary -**"
      ],
      "metadata": {
        "id": "FJNUwmbgGyua"
      }
    },
    {
      "cell_type": "markdown",
      "source": [
        "In today's competitive automobile industry, data-driven decisions are crucial to optimize pricing, improve fuel efficiency, and cater to customer preferences. The purpose of this project is to analyze a comprehensive dataset of automobile features and specifications to generate actionable insights that can drive business growth and innovation.\n",
        "\n",
        "The dataset comprises 205 entries and 26 features detailing various car attributes such as make, engine specifications, dimensions, and price. The analysis will focus on understanding the relationships between these variables and how they impact key outcomes like pricing, fuel efficiency, and insurance risk. Here are **10 objectives** for the automobile dataset excluding machine learning:\n",
        "\n",
        "### 1. **Determine the Key Factors Influencing Automobile Prices**\n",
        "   - Objective: Identify the most influential features (e.g., engine size, horsepower, body style) that drive car pricing by analyzing correlations and relationships between variables.\n",
        "\n",
        "### 2. **Investigate the Impact of Fuel Type on Automobile Performance and Pricing**\n",
        "   - Objective: Compare cars with different fuel types (gas, diesel) to understand how fuel type affects both performance (e.g., horsepower, fuel efficiency) and pricing.\n",
        "\n",
        "### 3. **Examine the Relationship Between Engine Specifications and Fuel Efficiency**\n",
        "   - Objective: Analyze the impact of engine characteristics such as engine size, number of cylinders, and horsepower on fuel efficiency (city and highway MPG).\n",
        "\n",
        "### 4. **Assess the Role of Body Style in Pricing and Consumer Preferences**\n",
        "   - Objective: Explore how different body styles (sedan, hatchback, SUV, etc.) affect vehicle pricing and are associated with consumer preferences for specific features.\n",
        "\n",
        "### 5. **Analyze Curb Weight and Its Impact on Vehicle Performance**\n",
        "   - Objective: Study how the weight of a car (curb weight) influences its performance metrics like fuel efficiency, handling, and price.\n",
        "\n",
        "### 6. **Examine the Relationship Between Horsepower and Pricing**\n",
        "   - Objective: Investigate the direct correlation between horsepower and the price of vehicles to understand how performance contributes to the overall market value.\n",
        "\n",
        "### 7. **Evaluate the Impact of Drivetrain Configuration on Vehicle Performance**\n",
        "   - Objective: Compare cars with front-wheel drive (FWD), rear-wheel drive (RWD), and all-wheel drive (AWD) to see how drivetrain type affects performance metrics like fuel efficiency, handling, and price.\n",
        "\n",
        "### 8. **Assess the Influence of Engine Size on Price and Performance**\n",
        "   - Objective: Analyze the relationship between engine size and key performance metrics (e.g., horsepower, fuel efficiency) as well as its influence on pricing.\n",
        "\n",
        "### 9. **Explore the Correlation Between Insurance Risk (Symboling) and Vehicle Features**\n",
        "   - Objective: Investigate how the insurance risk rating (symboling) is related to factors like horsepower, curb weight, and price to determine if higher-risk vehicles have distinct characteristics.\n",
        "\n",
        "### 10. **Identify Trends in Fuel Efficiency Across Vehicle Classes**\n",
        "   - Objective: Compare the fuel efficiency of different car types (e.g., sedans, SUVs, hatchbacks) across city and highway driving conditions to identify which vehicle classes are most fuel-efficient.\n",
        "\n",
        "These objectives focus on gaining actionable insights and exploring relationships within the dataset, providing a deeper understanding of how various factors influence automobile performance and pricing.\n",
        "\n",
        "\n",
        "\n",
        "\n",
        "\n",
        "\n"
      ],
      "metadata": {
        "id": "F6v_1wHtG2nS"
      }
    },
    {
      "cell_type": "markdown",
      "source": [
        "# **GitHub Link -**"
      ],
      "metadata": {
        "id": "w6K7xa23Elo4"
      }
    },
    {
      "cell_type": "markdown",
      "source": [
        "https://github.com/naina-dot"
      ],
      "metadata": {
        "id": "h1o69JH3Eqqn"
      }
    },
    {
      "cell_type": "markdown",
      "source": [
        "# **Problem Statement**\n"
      ],
      "metadata": {
        "id": "yQaldy8SH6Dl"
      }
    },
    {
      "cell_type": "markdown",
      "source": [
        "**Problem Statement:**\n",
        "\n",
        "The automobile industry is highly competitive, with numerous factors influencing vehicle pricing, performance, and consumer preferences. Understanding how attributes such as engine size, horsepower, body style, fuel type, and drivetrain configuration affect a car's price and performance is critical for manufacturers and marketers. However, there is a lack of clear insight into how these factors interact and contribute to the final pricing of vehicles, as well as how they align with consumer preferences for performance, fuel efficiency, and safety. This project aims to analyze the relationships between key automobile features and pricing to provide actionable insights that can help manufacturers optimize pricing strategies and offer vehicles that better meet consumer demands in terms of performance, efficiency, and safety."
      ],
      "metadata": {
        "id": "DpeJGUA3kjGy"
      }
    },
    {
      "cell_type": "markdown",
      "source": [
        "#### **Define Your Business Objective?**"
      ],
      "metadata": {
        "id": "PH-0ReGfmX4f"
      }
    },
    {
      "cell_type": "markdown",
      "source": [
        "**Business Objective:**  \n",
        "To optimize vehicle pricing based on key features that align with consumer preferences."
      ],
      "metadata": {
        "id": "PhDvGCAqmjP1"
      }
    },
    {
      "cell_type": "markdown",
      "source": [
        "# **General Guidelines** : -  "
      ],
      "metadata": {
        "id": "mDgbUHAGgjLW"
      }
    },
    {
      "cell_type": "markdown",
      "source": [
        "1.   Well-structured, formatted, and commented code is required.\n",
        "2.   Exception Handling, Production Grade Code & Deployment Ready Code will be a plus. Those students will be awarded some additional credits.\n",
        "     \n",
        "     The additional credits will have advantages over other students during Star Student selection.\n",
        "       \n",
        "             [ Note: - Deployment Ready Code is defined as, the whole .ipynb notebook should be executable in one go\n",
        "                       without a single error logged. ]\n",
        "\n",
        "3.   Each and every logic should have proper comments.\n",
        "4. You may add as many number of charts you want. Make Sure for each and every chart the following format should be answered.\n",
        "        \n",
        "\n",
        "```\n",
        "# Chart visualization code\n",
        "```\n",
        "            \n",
        "\n",
        "*   Why did you pick the specific chart?\n",
        "*   What is/are the insight(s) found from the chart?\n",
        "* Will the gained insights help creating a positive business impact?\n",
        "Are there any insights that lead to negative growth? Justify with specific reason.\n",
        "\n",
        "5. You have to create at least 20 logical & meaningful charts having important insights.\n",
        "\n",
        "\n",
        "[ Hints : - Do the Vizualization in  a structured way while following \"UBM\" Rule.\n",
        "\n",
        "U - Univariate Analysis,\n",
        "\n",
        "B - Bivariate Analysis (Numerical - Categorical, Numerical - Numerical, Categorical - Categorical)\n",
        "\n",
        "M - Multivariate Analysis\n",
        " ]\n",
        "\n",
        "\n",
        "\n"
      ],
      "metadata": {
        "id": "ZrxVaUj-hHfC"
      }
    },
    {
      "cell_type": "markdown",
      "source": [
        "# ***Let's Begin !***"
      ],
      "metadata": {
        "id": "O_i_v8NEhb9l"
      }
    },
    {
      "cell_type": "markdown",
      "source": [
        "## ***1. Know Your Data***"
      ],
      "metadata": {
        "id": "HhfV-JJviCcP"
      }
    },
    {
      "cell_type": "markdown",
      "source": [
        "### Import Libraries"
      ],
      "metadata": {
        "id": "Y3lxredqlCYt"
      }
    },
    {
      "cell_type": "code",
      "source": [
        "# Import Libraries\n",
        "import numpy as np\n",
        "import pandas as pd\n",
        "import seaborn as sns\n",
        "import matplotlib.pyplot as plt\n"
      ],
      "metadata": {
        "id": "M8Vqi-pPk-HR"
      },
      "execution_count": null,
      "outputs": []
    },
    {
      "cell_type": "markdown",
      "source": [
        "### Dataset Loading"
      ],
      "metadata": {
        "id": "3RnN4peoiCZX"
      }
    },
    {
      "cell_type": "code",
      "source": [
        "# Load Dataset\n",
        "dataset = pd.read_csv('/content/automobile_data.csv')\n"
      ],
      "metadata": {
        "id": "4CkvbW_SlZ_R"
      },
      "execution_count": null,
      "outputs": []
    },
    {
      "cell_type": "markdown",
      "source": [
        "### Dataset First View"
      ],
      "metadata": {
        "id": "x71ZqKXriCWQ"
      }
    },
    {
      "cell_type": "code",
      "source": [
        "# Dataset First Look\n",
        "dataset.head()"
      ],
      "metadata": {
        "id": "LWNFOSvLl09H"
      },
      "execution_count": null,
      "outputs": []
    },
    {
      "cell_type": "markdown",
      "source": [
        "### Dataset Rows & Columns count"
      ],
      "metadata": {
        "id": "7hBIi_osiCS2"
      }
    },
    {
      "cell_type": "code",
      "source": [
        "# Dataset Rows & Columns count\n",
        "dataset.shape"
      ],
      "metadata": {
        "id": "Kllu7SJgmLij"
      },
      "execution_count": null,
      "outputs": []
    },
    {
      "cell_type": "markdown",
      "source": [
        "### Dataset Information"
      ],
      "metadata": {
        "id": "JlHwYmJAmNHm"
      }
    },
    {
      "cell_type": "code",
      "source": [
        "# Dataset Info\n",
        "dataset.info()"
      ],
      "metadata": {
        "id": "e9hRXRi6meOf"
      },
      "execution_count": null,
      "outputs": []
    },
    {
      "cell_type": "markdown",
      "source": [
        "#### Duplicate Values"
      ],
      "metadata": {
        "id": "35m5QtbWiB9F"
      }
    },
    {
      "cell_type": "code",
      "source": [
        "# Dataset Duplicate Value Count"
      ],
      "metadata": {
        "id": "1sLdpKYkmox0"
      },
      "execution_count": null,
      "outputs": []
    },
    {
      "cell_type": "code",
      "source": [
        "len(dataset[dataset.duplicated()])"
      ],
      "metadata": {
        "id": "prSpwF8RoE6W"
      },
      "execution_count": null,
      "outputs": []
    },
    {
      "cell_type": "markdown",
      "source": [
        "#### Missing Values/Null Values"
      ],
      "metadata": {
        "id": "PoPl-ycgm1ru"
      }
    },
    {
      "cell_type": "code",
      "source": [
        "# Missing Values/Null Values Count"
      ],
      "metadata": {
        "id": "GgHWkxvamxVg"
      },
      "execution_count": null,
      "outputs": []
    },
    {
      "cell_type": "code",
      "source": [
        "df= pd.read_csv('/content/automobile_data.csv')\n",
        "df.replace('?', np.nan, inplace=True)\n",
        "print(df.head())\n",
        "print(df.isnull().sum())"
      ],
      "metadata": {
        "id": "5Jt101xhRmpR"
      },
      "execution_count": null,
      "outputs": []
    },
    {
      "cell_type": "code",
      "source": [
        "# Visualizing the missing values\n",
        "sns.heatmap(df.isnull(), cbar=False)"
      ],
      "metadata": {
        "id": "3q5wnI3om9sJ"
      },
      "execution_count": null,
      "outputs": []
    },
    {
      "cell_type": "markdown",
      "source": [
        "### What did you know about your dataset?\n",
        "\n",
        "The dataset contains information about various automobiles including their specifications, performance metrix, and pricing. The dataset includes 5 rows and 26 columns, with no null values detected. It includes various types of datasets with Numerical: Price, horsepower, engine size, etc. Categorical: Fuel type, body style, drivetrain, etc.\n",
        "Certain columns may contain missing values, represented by '?' or null entries, indicating a need for data cleaning and imputation.The dataset includes performance metrics such as fuel efficiency (MPG), which are crucial for understanding the economic and environmental aspects of the vehicles.The dataset includes performance metrics such as fuel efficiency (MPG), which are crucial for understanding the economic and environmental aspects of the vehicles.The dataset may require data wrangling steps such as handling missing values, correcting inconsistent entries, and normalizing or transforming features for analysis.\n",
        "Overall, the dataset provides a rich source of information that can be analyzed to uncover insights about automobile pricing, performance, and consumer preferences, but it requires careful cleaning and preparation to ensure accurate and meaningful results."
      ],
      "metadata": {
        "id": "H0kj-8xxnORC"
      }
    },
    {
      "cell_type": "markdown",
      "source": [],
      "metadata": {
        "id": "gfoNAAC-nUe_"
      }
    },
    {
      "cell_type": "markdown",
      "source": [
        "## ***2. Understanding Your Variables***"
      ],
      "metadata": {
        "id": "nA9Y7ga8ng1Z"
      }
    },
    {
      "cell_type": "code",
      "source": [
        "# Dataset Columns\n",
        "dataset.columns"
      ],
      "metadata": {
        "id": "j7xfkqrt5Ag5"
      },
      "execution_count": null,
      "outputs": []
    },
    {
      "cell_type": "code",
      "source": [
        "# Dataset Describe\n",
        "dataset.describe(include='all')"
      ],
      "metadata": {
        "id": "DnOaZdaE5Q5t"
      },
      "execution_count": null,
      "outputs": []
    },
    {
      "cell_type": "markdown",
      "source": [
        "### Variables Description"
      ],
      "metadata": {
        "id": "PBTbrJXOngz2"
      }
    },
    {
      "cell_type": "code",
      "source": [],
      "metadata": {
        "id": "GgsYx5A53Ul2"
      },
      "execution_count": null,
      "outputs": []
    },
    {
      "cell_type": "markdown",
      "source": [
        "Symboling:\n",
        "\n",
        "Normalized-losses:\n",
        "\n",
        "Make:\n",
        "\n",
        "Fuel-type:\n",
        "\n",
        "aspiration:\n",
        "\n",
        "num-of-doors:\n",
        "\n",
        "body-style:\n",
        "\n",
        "drive-wheels:\n",
        "\n",
        "engine-location:\n",
        "\n",
        "wheel-base:\n",
        "\n",
        "length:\n",
        "\n",
        "width:\n",
        "\n",
        "height:\n",
        "\n",
        "curb-weight:\n",
        "\n",
        "engine-type:\n",
        "\n",
        "num-of-cylinders:\n",
        "\n",
        "engine-size:\n",
        "\n",
        "fuel-system:\n",
        "\n",
        "bore:\n",
        "\n",
        "stroke:\n",
        "       \n",
        "compression-ratio:\n",
        "\n",
        "horsepower:\n",
        "\n",
        "peak-rpm:\n",
        "\n",
        "city-mpg:\n",
        "      \n",
        "highway-mpg:\n",
        "       \n",
        "price:\n"
      ],
      "metadata": {
        "id": "aJV4KIxSnxay"
      }
    },
    {
      "cell_type": "markdown",
      "source": [
        "### Check Unique Values for each variable."
      ],
      "metadata": {
        "id": "u3PMJOP6ngxN"
      }
    },
    {
      "cell_type": "code",
      "source": [
        "# Check Unique Values for each variable."
      ],
      "metadata": {
        "id": "zms12Yq5n-jE"
      },
      "execution_count": null,
      "outputs": []
    },
    {
      "cell_type": "code",
      "source": [
        "for i in dataset.columns.tolist():\n",
        "  print(\"No. of unique values in \",i,\"is\",dataset[i].nunique(),\".\")"
      ],
      "metadata": {
        "id": "IB8mvyOtR7aG"
      },
      "execution_count": null,
      "outputs": []
    },
    {
      "cell_type": "markdown",
      "source": [
        "## 3. ***Data Wrangling***"
      ],
      "metadata": {
        "id": "dauF4eBmngu3"
      }
    },
    {
      "cell_type": "markdown",
      "source": [
        "### Data Wrangling Code"
      ],
      "metadata": {
        "id": "bKJF3rekwFvQ"
      }
    },
    {
      "cell_type": "code",
      "source": [
        "# Write your code to make your dataset analysis ready.\n",
        "# Check for missing values\n",
        "df.isnull().sum()\n"
      ],
      "metadata": {
        "id": "wk-9a2fpoLcV"
      },
      "execution_count": null,
      "outputs": []
    },
    {
      "cell_type": "code",
      "source": [
        "# Write your code to make your dataset analysis ready.\n",
        "# Check for missing values\n",
        "df.isnull().sum()\n",
        "\n",
        "# Replace '?' with NaN\n",
        "df.replace('?', np.nan, inplace=True)\n",
        "\n",
        "# Convert 'normalized-losses' column to numeric, coercing errors to NaN\n",
        "df['normalized-losses'] = pd.to_numeric(df['normalized-losses'], errors='coerce')\n",
        "\n",
        "# Calculate the mean of 'normalized-losses', excluding NaN values\n",
        "mean_value = df['normalized-losses'].mean()\n",
        "\n",
        "# Replace NaN values with the mean using loc\n",
        "df.loc[:, 'normalized-losses'] = df['normalized-losses'].fillna(mean_value)\n",
        "\n",
        "print(\"\\nUpdated dataset (first 5 rows):\")\n",
        "print(df.head())\n",
        "\n",
        "\n",
        "\n",
        "\n",
        "\n"
      ],
      "metadata": {
        "id": "RgQfllYcy3ee"
      },
      "execution_count": null,
      "outputs": []
    },
    {
      "cell_type": "code",
      "source": [
        "# Check for missing values in 'num-of-doors'\n",
        "print(\"Missing values in 'num-of-doors':\")\n",
        "print(df['num-of-doors'].isnull().sum())  # Verify there are 2 missing values\n",
        "\n",
        "# Calculate the mode of 'num-of-doors'\n",
        "mode_value = df['num-of-doors'].mode()[0]\n",
        "print(f\"\\nMode of 'num-of-doors': {mode_value}\")\n",
        "\n",
        "# Replace NaN values in 'num-of-doors' with the mode\n",
        "df.loc[:, 'num-of-doors'] = df['num-of-doors'].fillna(mode_value)\n",
        "\n",
        "# Verify the replacement of missing values\n",
        "print(\"\\nMissing values in 'num-of-doors' after replacement:\")\n",
        "print(df['num-of-doors'].isnull().sum())\n",
        "\n",
        "# Print the updated dataset's head to verify the changes\n",
        "print(\"\\nUpdated dataset (first 5 rows):\")\n",
        "print(df.head())"
      ],
      "metadata": {
        "id": "VfBKrRMI5Ts2"
      },
      "execution_count": null,
      "outputs": []
    },
    {
      "cell_type": "code",
      "source": [
        "# Convert 'bore' to numeric (it may be stored as a string)\n",
        "df['bore'] = pd.to_numeric(df['bore'], errors='coerce')\n",
        "\n",
        "# Check for missing values in 'bore'\n",
        "print(\"Missing values in 'bore':\")\n",
        "missing_bore_count = df['bore'].isnull().sum()\n",
        "print(missing_bore_count)  # This should show 4 missing values\n",
        "\n",
        "#Fill NaN values with the **median**\n",
        "median_value_bore = df['bore'].median()\n",
        "print(f\"\\nMedian of 'bore': {median_value_bore}\")\n",
        "df.loc[:, 'bore'] = df['bore'].fillna(median_value_bore)  # Replace with median\n",
        "\n",
        "# Verify the replacement of missing values\n",
        "print(\"\\nMissing values in 'bore' after replacement:\")\n",
        "print(df['bore'].isnull().sum())  # This should show 0 if all NaNs were replaced\n",
        "\n",
        "# Print the updated dataset's head to verify the changes\n",
        "print(\"\\nUpdated dataset (first 5 rows):\")\n",
        "print(df.head())"
      ],
      "metadata": {
        "id": "_4xtSAVZ54qK"
      },
      "execution_count": null,
      "outputs": []
    },
    {
      "cell_type": "code",
      "source": [
        "# Convert 'stroke' to numeric (it may be stored as a string)\n",
        "df['stroke'] = pd.to_numeric(df['stroke'], errors='coerce')\n",
        "\n",
        "# Check for missing values in 'stroke'\n",
        "print(\"Missing values in 'stroke':\")\n",
        "print(df['stroke'].isnull().sum())  # This will show how many missing values are there\n",
        "\n",
        "# Calculate the mean of 'stroke', excluding NaN values\n",
        "mean_value_stroke = df['stroke'].mean()\n",
        "print(f\"\\nMean of 'stroke': {mean_value_stroke}\")\n",
        "\n",
        "# Replace NaN values in 'stroke' with the mean\n",
        "df.loc[:, 'stroke'] = df['stroke'].fillna(mean_value_stroke)\n",
        "\n",
        "# Verify the replacement of missing values\n",
        "print(\"\\nMissing values in 'stroke' after replacement:\")\n",
        "print(df['stroke'].isnull().sum())  # This should show 0 if all NaNs were replaced\n",
        "\n",
        "# Print the updated dataset's head to verify the changes\n",
        "print(\"\\nUpdated dataset (first 5 rows):\")\n",
        "print(df.head())"
      ],
      "metadata": {
        "id": "exXDq9XO6uhd"
      },
      "execution_count": null,
      "outputs": []
    },
    {
      "cell_type": "code",
      "source": [
        "# Convert 'horsepower' to numeric (it may be stored as a string)\n",
        "df['horsepower'] = pd.to_numeric(df['horsepower'], errors='coerce')\n",
        "\n",
        "# Check for missing values in 'horsepower'\n",
        "print(\"Missing values in 'horsepower':\")\n",
        "print(df['horsepower'].isnull().sum())  # This will show how many missing values there are\n",
        "\n",
        "# Calculate the mean of 'horsepower', excluding NaN values\n",
        "mean_value_horsepower = df['horsepower'].mean()\n",
        "print(f\"\\nMean of 'horsepower': {mean_value_horsepower}\")\n",
        "\n",
        "# Replace NaN values in 'horsepower' with the mean\n",
        "df.loc[:, 'horsepower'] = df['horsepower'].fillna(mean_value_horsepower)\n",
        "\n",
        "# Verify the replacement of missing values\n",
        "print(\"\\nMissing values in 'horsepower' after replacement:\")\n",
        "print(df['horsepower'].isnull().sum())  # This should show 0 if all NaNs were replaced\n",
        "\n",
        "# Print the updated dataset's head to verify the changes\n",
        "print(\"\\nUpdated dataset (first 5 rows):\")\n",
        "print(df.head())"
      ],
      "metadata": {
        "id": "ArvG6XTU6_Zk"
      },
      "execution_count": null,
      "outputs": []
    },
    {
      "cell_type": "code",
      "source": [
        "# Convert 'peak-rpm' to numeric (it may be stored as a string)\n",
        "df['peak-rpm'] = pd.to_numeric(df['peak-rpm'], errors='coerce')\n",
        "\n",
        "# Check for missing values in 'peak-rpm'\n",
        "print(\"Missing values in 'peak-rpm':\")\n",
        "print(df['peak-rpm'].isnull().sum())  # This will show how many missing values are there\n",
        "\n",
        "# Calculate the mean of 'peak-rpm', excluding NaN values\n",
        "mean_value_peak_rpm = df['peak-rpm'].mean()\n",
        "print(f\"\\nMean of 'peak-rpm': {mean_value_peak_rpm}\")\n",
        "\n",
        "# Replace NaN values in 'peak-rpm' with the mean\n",
        "df.loc[:, 'peak-rpm'] = df['peak-rpm'].fillna(mean_value_peak_rpm)\n",
        "\n",
        "# Verify the replacement of missing values\n",
        "print(\"\\nMissing values in 'peak-rpm' after replacement:\")\n",
        "print(df['peak-rpm'].isnull().sum())  # This should show 0 if all NaNs were replaced\n",
        "\n",
        "# Print the updated dataset's head to verify the changes\n",
        "print(\"\\nUpdated dataset (first 5 rows):\")\n",
        "print(df.head())"
      ],
      "metadata": {
        "id": "TX2bx4kk7hyB"
      },
      "execution_count": null,
      "outputs": []
    },
    {
      "cell_type": "code",
      "source": [
        "# Convert 'price' to numeric (it may be stored as a string)\n",
        "df['price'] = pd.to_numeric(df['price'], errors='coerce')\n",
        "\n",
        "# Check for missing values in 'peak-rpm'\n",
        "print(\"Missing values in 'price':\")\n",
        "print(df['price'].isnull().sum())  # This will show how many missing values are there\n",
        "\n",
        "# Calculate the mean of 'price', excluding NaN values\n",
        "mean_value_price = df['price'].mean()\n",
        "print(f\"\\nMean of 'price': {mean_value_price}\")\n",
        "\n",
        "# Replace NaN values in 'price' with the mean\n",
        "df.loc[:, 'price'] = df['price'].fillna(mean_value_price)\n",
        "\n",
        "# Verify the replacement of missing values\n",
        "print(\"\\nMissing values in 'price' after replacement:\")\n",
        "print(df['price'].isnull().sum())  # This should show 0 if all NaNs were replaced\n",
        "\n",
        "# Print the updated dataset's head to verify the changes\n",
        "print(\"\\nUpdated dataset (first 5 rows):\")\n",
        "print(df.head())"
      ],
      "metadata": {
        "id": "arpXFtHt8JGC"
      },
      "execution_count": null,
      "outputs": []
    },
    {
      "cell_type": "code",
      "source": [],
      "metadata": {
        "id": "IjD5VVNxIqyu"
      },
      "execution_count": null,
      "outputs": []
    },
    {
      "cell_type": "markdown",
      "source": [
        "### What all manipulations have you done and insights you found?"
      ],
      "metadata": {
        "id": "MSa1f5Uengrz"
      }
    },
    {
      "cell_type": "markdown",
      "source": [
        "After manipulation I found that the column names such as horsepower, normalization, bore, stroke etc. were having null values affecting the overall data and its visualization aspect. I replaced the null values in each of these columns with their respective means, medians and mode values which can provide us with useful insights regarding the automobile normalization rate, horsepower in engines, stroke,bore and price. Furthermore, during manipulation I found that the price can be easily impacted by all these other factors.  "
      ],
      "metadata": {
        "id": "LbyXE7I1olp8"
      }
    },
    {
      "cell_type": "markdown",
      "source": [
        "## ***4. Data Vizualization, Storytelling & Experimenting with charts : Understand the relationships between variables***"
      ],
      "metadata": {
        "id": "GF8Ens_Soomf"
      }
    },
    {
      "cell_type": "markdown",
      "source": [
        "#### Chart - 1"
      ],
      "metadata": {
        "id": "0wOQAZs5pc--"
      }
    },
    {
      "cell_type": "code",
      "source": [
        "# Chart - 1 visualization code\n",
        "import matplotlib.pyplot as plt\n",
        "\n",
        "# Plot a histogram to show the distribution of the 'price' column\n",
        "plt.figure(figsize=(10, 6))\n",
        "\n",
        "# Histogram of price\n",
        "plt.hist(df['price'], bins=20, color='skyblue', edgecolor='black')\n",
        "plt.title('Distribution of Price after Imputation')\n",
        "plt.xlabel('Price')\n",
        "plt.ylabel('Frequency')\n",
        "\n",
        "# Show the plot\n",
        "plt.show()\n",
        "\n",
        "# Boxplot to check for outliers in 'price'\n",
        "plt.figure(figsize=(8, 4))\n",
        "\n",
        "# Boxplot of price\n",
        "plt.boxplot(df['price'], vert=False, patch_artist=True, boxprops=dict(facecolor='lightblue'))\n",
        "plt.title('Boxplot of Price after Imputation')\n",
        "plt.xlabel('Price')\n",
        "\n",
        "# Show the boxplot\n",
        "plt.show()\n",
        "\n",
        "\n",
        "\n"
      ],
      "metadata": {
        "id": "7v_ESjsspbW7"
      },
      "execution_count": null,
      "outputs": []
    },
    {
      "cell_type": "markdown",
      "source": [
        "##### 1. Why did you pick the specific chart?"
      ],
      "metadata": {
        "id": "K5QZ13OEpz2H"
      }
    },
    {
      "cell_type": "markdown",
      "source": [
        "I picked the **histogram** and **boxplot** for the `price` attribute because they are both highly effective in understanding different aspects of the data distribution:\n",
        "\n",
        "### 1. **Histogram**:\n",
        "   - **Why**: A histogram is ideal for visualizing the distribution of a single continuous numerical variable, such as price. It allows you to see the frequency of prices across different ranges.\n",
        "  \n",
        "\n",
        "### 2. **Boxplot**:\n",
        "   - **Why**: A boxplot is great for detecting outliers and summarizing the distribution of data through its quartiles.\n",
        "  \n",
        "   \n",
        "### Why These Plots?\n",
        "- **Combination of insights**: The histogram gives a broad view of the frequency distribution, showing how prices are spread across different ranges. The boxplot complements this by showing the statistical summary (like median and quartiles) and any potential outliers.\n",
        "- **Detecting patterns**: These plots allow us to spot patterns in the `price` attribute such as skewness, clusters, and unusual values, which are important for understanding the dataset and making informed decisions in further analysis.\n",
        "\n",
        "If you want to explore any other visualizations, let me know!"
      ],
      "metadata": {
        "id": "XESiWehPqBRc"
      }
    },
    {
      "cell_type": "markdown",
      "source": [
        "##### 2. What is/are the insight(s) found from the chart?"
      ],
      "metadata": {
        "id": "lQ7QKXXCp7Bj"
      }
    },
    {
      "cell_type": "markdown",
      "source": [
        "### 1. **Histogram**:\n",
        "   - **What it shows**:\n",
        "     - The spread of the prices : spread variably from 5000 to 45000.\n",
        "     - The most common price ranges (peaks) : from 5000 to 15000\n",
        "     - Whether the distribution is skewed to the left (lower prices) or to the right (higher prices): to the right\n",
        "     - Any gaps or unusual distributions: yes, after 35000 and 40000.\n",
        "\n",
        "\n",
        "2. Boxplot\n",
        "   - **What it shows**:\n",
        "     - The **median** price (middle line in the box): The orange line inside the box represents the median price, which appears to be around $12,000. This is the middle value of the dataset.\n",
        "\n",
        "     - The **interquartile range** (IQR) which shows the spread of the middle 50% of prices: The box itself represents the range between the first quartile (Q1, around $9,000) and the third quartile (Q3, around $17,000). This means that 50% of the vehicles in the dataset have prices between these two values.\n",
        "\n",
        "     - Any **outliers** (dots outside of the whiskers): The \"whiskers\" extend to about $5,000 (minimum) and $25,000 (maximum), representing the range of prices that fall within 1.5 times the IQR. Any data points outside this range are considered potential outliers.\n",
        "\n",
        "     - Whether the distribution is symmetric or skewed : The distribution of the price data shown in the boxplot is right-skewed (positively skewed).\n",
        "     This plot indicates that while most vehicles are priced within a moderate range, a small number of high-end vehicles have much higher prices."
      ],
      "metadata": {
        "id": "C_j1G7yiqdRP"
      }
    },
    {
      "cell_type": "markdown",
      "source": [
        "##### 3. Will the gained insights help creating a positive business impact?\n",
        "The insights from the price distribution offer practical ways for a business to tailor its pricing, marketing strategies, and inventory management. By understanding the concentration of prices and the presence of outliers, the company can develop a balanced approach that maximizes profitability and customer satisfaction across different market segments.\n",
        "1. Knowing that the majority of cars are priced between $9,000 and $17,000, with some outliers at higher prices, can help the company position its products effectively.\n",
        "2. e right-skewed distribution indicates that while most customers may look for moderately priced vehicles, there is still a market for high-end cars, as seen from the outliers. The company can focus on segmenting the market and offering tailored marketing strategies for different price ranges.\n",
        "3. Since there are fewer high-priced vehicles (outliers), the company could decide to expand its product line to cater more to the premium segment, provided there is sufficient demand.\n"
      ],
      "metadata": {
        "id": "448CDAPjqfQr"
      }
    },
    {
      "cell_type": "markdown",
      "source": [
        "#### Chart - 2"
      ],
      "metadata": {
        "id": "KSlN3yHqYklG"
      }
    },
    {
      "cell_type": "code",
      "source": [
        "# Chart - 2 visualization code\n",
        "\n",
        "# Assuming the dataset has 'city-mpg' and 'highway-mpg' columns for fuel efficiency\n",
        "city_mpg = df['city-mpg']\n",
        "highway_mpg = df['highway-mpg']\n",
        "\n",
        "# Plot a histogram for city and highway mpg\n",
        "plt.figure(figsize=(12, 6))\n",
        "\n",
        "# Histogram for city-mpg\n",
        "plt.subplot(1, 2, 1)  # Two subplots, this is the first\n",
        "plt.hist(city_mpg, bins=20, color='green', edgecolor='black')\n",
        "plt.title('Distribution of City MPG')\n",
        "plt.xlabel('City MPG')\n",
        "plt.ylabel('Frequency')\n",
        "\n",
        "# Histogram for highway-mpg\n",
        "plt.subplot(1, 2, 2)  # This is the second subplot\n",
        "plt.hist(highway_mpg, bins=20, color='blue', edgecolor='black')\n",
        "plt.title('Distribution of Highway MPG')\n",
        "plt.xlabel('Highway MPG')\n",
        "plt.ylabel('Frequency')\n",
        "# Adding a legend\n",
        "plt.legend()\n",
        "\n",
        "# Show the plot\n",
        "plt.show()\n",
        "\n",
        "\n",
        "\n"
      ],
      "metadata": {
        "id": "R4YgtaqtYklH"
      },
      "execution_count": null,
      "outputs": []
    },
    {
      "cell_type": "markdown",
      "source": [
        "##### 1. Why did you pick the specific chart?"
      ],
      "metadata": {
        "id": "t6dVpIINYklI"
      }
    },
    {
      "cell_type": "markdown",
      "source": [
        "I chose histograms for the City MPG and Highway MPG distributions because they are an ideal way to visualize the frequency of continuous numerical data. In this case, both MPG values are continuous variables that measure fuel efficiency, and the histograms effectively show how these values are distributed across the dataset."
      ],
      "metadata": {
        "id": "5aaW0BYyYklI"
      }
    },
    {
      "cell_type": "markdown",
      "source": [
        "##### 2. What is/are the insight(s) found from the chart?"
      ],
      "metadata": {
        "id": "ijmpgYnKYklI"
      }
    },
    {
      "cell_type": "markdown",
      "source": [
        "From the **histograms** of **City MPG** and **Highway MPG**, several key insights can be derived:\n",
        "\n",
        "### 1. **Most Common City MPG Range**:\n",
        "   - The **City MPG** (left histogram) is most commonly clustered between **20 and 30 MPG**, with the largest group of vehicles around the **25 MPG** mark.\n",
        "   - This indicates that most vehicles in the dataset offer moderate fuel efficiency in city driving conditions.\n",
        "   \n",
        "### 2. **Highway MPG Distribution**:\n",
        "   - For **Highway MPG** (right histogram), the distribution shows the majority of vehicles fall between **25 and 40 MPG**. The peak is around **30-35 MPG**, meaning vehicles tend to be more fuel-efficient on highways compared to city driving, which is expected.\n",
        "   - There's also a significant spike at **40 MPG**, suggesting that some vehicles offer very high efficiency on highways.\n",
        "\n",
        "### 3. **Skewness in the Distribution**:\n",
        "   - The **City MPG** distribution shows a slight **right skew**, meaning there are some vehicles with very low fuel efficiency (below 15 MPG), though these are few in number.\n",
        "   - The **Highway MPG** distribution is less skewed, but still shows a few vehicles offering very high efficiency, close to **50 MPG**.\n",
        "\n",
        "### 4. **Gaps in MPG Range**:\n",
        "   - Both histograms show gaps, especially in the higher MPG ranges (above 35 MPG for City and above 50 MPG for Highway). This suggests that fewer vehicles in the dataset offer extremely high fuel efficiency.\n",
        "   \n",
        "### 5. **Highway MPG is Generally Better**:\n",
        "   - As expected, vehicles perform better in terms of fuel efficiency on highways than in cities. The data shows more vehicles achieving higher MPG on highways, with a larger range between 30 and 40 MPG compared to city driving, where the common range is 20-30 MPG.\n",
        "\n",
        "### 6. **Potential Outliers**:\n",
        "   - In both charts, there are some vehicles with unusually high or low fuel efficiency (above 45 MPG in city or highway driving, or below 15 MPG). These could be outliers, indicating specialized vehicles (such as hybrids for high MPG or large trucks for low MPG).\n",
        "\n",
        "### Business Implications:\n",
        "   - **Customer Segmentation**: Vehicles in the 25-35 MPG range may appeal to the majority of consumers, particularly those who prioritize balanced fuel efficiency.\n",
        "   - **Targeting Eco-Friendly Customers**: The few vehicles with high fuel efficiency (above 40 MPG) could be marketed to environmentally conscious customers or those looking for long-distance, fuel-saving options.\n",
        "   - **Performance-Based Pricing**: Cars with high fuel efficiency, especially on highways, could be positioned as premium options due to the long-term savings on fuel.\n",
        "\n",
        "Overall, these insights suggest the majority of vehicles are mid-range in fuel efficiency, with a few models designed for either high performance or greater fuel economy."
      ],
      "metadata": {
        "id": "PSx9atu2YklI"
      }
    },
    {
      "cell_type": "markdown",
      "source": [
        "##### 3. Will the gained insights help creating a positive business impact?\n",
        "While most of the insights are actionable for positive growth, there are a few potential areas that could lead to challenges:\n",
        "\n",
        "Limited Availability of High-Efficiency Vehicles:\n",
        "\n",
        "The analysis shows that very few vehicles achieve extremely high fuel efficiency (above 40 MPG). This limited availability of eco-friendly or fuel-efficient models may prevent the company from fully capitalizing on the growing demand for greener alternatives. If competitors offer more high-MPG vehicles, it could lead to lost market share in the eco-friendly vehicle segment.\n",
        "Poorly Performing Vehicles in Fuel Efficiency:\n",
        "\n",
        "Some vehicles in the dataset exhibit very low MPG (below 15 MPG), which could be a liability in markets where fuel efficiency is a top concern. Consumers may be deterred by these models, especially as fuel costs rise and environmental concerns increase. Without careful positioning (e.g., luxury or performance branding), these vehicles might be seen as outdated or costly to operate, leading to negative brand perception and reduced sales.\n",
        "Outliers and Perception:\n",
        "\n",
        "The presence of outliers with extremely low MPG might create a perception that the company's product line is not competitive with fuel-efficient brands. This could hinder growth if customers associate the brand with poor fuel economy."
      ],
      "metadata": {
        "id": "-JiQyfWJYklI"
      }
    },
    {
      "cell_type": "markdown",
      "source": [
        "#### Chart - 3"
      ],
      "metadata": {
        "id": "EM7whBJCYoAo"
      }
    },
    {
      "cell_type": "code",
      "source": [
        "# Chart - 3 visualization code\n",
        "\n",
        "\n",
        "# Create a boxplot for Body Style vs Price\n",
        "plt.figure(figsize=(10, 6))\n",
        "\n",
        "# Boxplot using seaborn\n",
        "sns.boxplot(x='body-style', y='price', data=df, palette=\"Set3\")\n",
        "\n",
        "# Add title and labels\n",
        "plt.title('Price Distribution by Body Style')\n",
        "plt.xlabel('Body Style')\n",
        "plt.ylabel('Price')\n",
        "\n",
        "# Show the plot\n",
        "plt.show()\n"
      ],
      "metadata": {
        "id": "t6GMdE67YoAp"
      },
      "execution_count": null,
      "outputs": []
    },
    {
      "cell_type": "markdown",
      "source": [
        "##### 1. Why did you pick the specific chart?"
      ],
      "metadata": {
        "id": "fge-S5ZAYoAp"
      }
    },
    {
      "cell_type": "markdown",
      "source": [
        "I chose this chart because the combination of boxplot is ideal for showing the both the parameters of category-wise distribution and the price range. This will help us to figure out the most common car type with the price range it fits. Also, the outliers will help us figure out that there are some values in the categorical-wise distribution which are outside the usual price range."
      ],
      "metadata": {
        "id": "5dBItgRVYoAp"
      }
    },
    {
      "cell_type": "markdown",
      "source": [
        "##### 2. What is/are the insight(s) found from the chart?"
      ],
      "metadata": {
        "id": "85gYPyotYoAp"
      }
    },
    {
      "cell_type": "markdown",
      "source": [
        "The box plot of price distribution by body style provides several key insights about the relationship between the type of vehicle and its price:\n",
        "\n",
        "### 1. **Price Range Differences**:\n",
        "   - Each body style (e.g., sedan, hatchback, SUV, convertible, etc.) exhibits a different price range. Some body styles have a wider price distribution, indicating a broader range of prices within that category, while others are more tightly clustered.\n",
        "   - For instance, SUVs and convertibles may have a higher median price and larger spread (interquartile range), suggesting they have premium models or are more expensive on average compared to sedans or hatchbacks.\n",
        "\n",
        "### 2. **Outliers**:\n",
        "   - The presence of **outliers** (data points that fall outside the whiskers) indicates that certain vehicles within a body style are priced significantly higher or lower than the majority of models in that category. For example, luxury versions of sedans or hatchbacks could be driving these outliers.\n",
        "   - Identifying these outliers could help the business analyze premium models or special editions that fetch much higher prices.\n",
        "\n",
        "### 3. **Skewness**:\n",
        "   - The distribution of prices within a body style may show skewness (either left or right). A **right-skewed** distribution indicates that while most vehicles are relatively affordable, a few models are significantly more expensive, possibly due to luxury or high-performance variants.\n",
        "   - This could help in understanding whether a certain body style tends to include a wide spectrum of offerings, from economy to luxury.\n",
        "\n",
        "### 4. **Median Price Comparison**:\n",
        "   - The **median price** (marked by the horizontal line within the box) gives a central value for each body style, which helps compare the relative affordability or premium nature of different types of vehicles.\n",
        "   - For example, sedans might have a lower median price than SUVs, reflecting that sedans are generally more affordable.\n",
        "\n",
        "### 5. **Business Strategy Insights**:\n",
        "   - The company can use these insights to target different market segments. For instance, if SUVs have a higher price range and median, they can be marketed towards high-income or family-oriented customers. On the other hand, more affordable body styles like hatchbacks may be targeted towards first-time buyers or budget-conscious customers.\n",
        "   - Additionally, the presence of outliers suggests the possibility of niche markets for luxury or high-end models within certain body styles.\n",
        "\n",
        "### 6. **Price Consistency**:\n",
        "   - A body style with a **smaller interquartile range** (IQR) has a more consistent pricing structure, indicating that most vehicles in that category are priced similarly. This could appeal to customers seeking predictability in pricing. Conversely, a wider IQR indicates greater diversity in price points.\n"
      ],
      "metadata": {
        "id": "4jstXR6OYoAp"
      }
    },
    {
      "cell_type": "markdown",
      "source": [
        "##### 3. Will the gained insights help creating a positive business impact?\n",
        "Are there any insights that lead to negative growth? Justify with specific reason."
      ],
      "metadata": {
        "id": "RoGjAbkUYoAp"
      }
    },
    {
      "cell_type": "markdown",
      "source": [
        "The box plot of price distribution by body style helps businesses understand how different types of vehicles are priced in the market, which can inform marketing, product development, and pricing strategies. It reveals variations in affordability, the existence of premium models, and opportunities for targeted segmentation."
      ],
      "metadata": {
        "id": "zfJ8IqMcYoAp"
      }
    },
    {
      "cell_type": "markdown",
      "source": [
        "#### Chart - 4"
      ],
      "metadata": {
        "id": "4Of9eVA-YrdM"
      }
    },
    {
      "cell_type": "code",
      "source": [
        "# Chart - 4 visualization code\n",
        "\n",
        "\n",
        "# Select relevant columns for correlation analysis\n",
        "correlation_columns = ['price', 'horsepower', 'engine-size', 'curb-weight', 'city-mpg', 'highway-mpg']\n",
        "\n",
        "# Calculate the correlation matrix\n",
        "correlation_matrix = df[correlation_columns].corr()\n",
        "\n",
        "# Plot the heatmap\n",
        "plt.figure(figsize=(8, 6))\n",
        "sns.heatmap(correlation_matrix, annot=True, cmap='coolwarm', linewidths=0.5)\n",
        "\n",
        "# Add title\n",
        "plt.title('Correlation Heatmap of Selected Features with Price')\n",
        "\n",
        "# Show the heatmap\n",
        "plt.show()\n"
      ],
      "metadata": {
        "id": "irlUoxc8YrdO"
      },
      "execution_count": null,
      "outputs": []
    },
    {
      "cell_type": "markdown",
      "source": [
        "##### 1. Why did you pick the specific chart?"
      ],
      "metadata": {
        "id": "iky9q4vBYrdO"
      }
    },
    {
      "cell_type": "markdown",
      "source": [
        "The heatmap was chosen because it provides a **concise, visual representation** of multiple relationships between variables at once. It's particularly useful for identifying:\n",
        "\n",
        "- **Patterns**: It highlights where strong positive or negative correlations exist, guiding further analysis.\n",
        "- **Strength of Relationships**: The color-coded intensity helps to easily identify the strength of the correlation (e.g., dark colors for strong correlations).\n",
        "- **Insights at a Glance**: A heatmap simplifies the comparison of many numeric variables, making it quicker to spot important relationships compared to reading raw correlation coefficients.\n",
        "\n",
        "This diagram is valuable for exploring key trends that impact **pricing**, **performance**, and **efficiency** in the automotive industry, providing actionable insights that can inform business decisions such as vehicle design, pricing strategy, and consumer segmentation."
      ],
      "metadata": {
        "id": "aJRCwT6DYrdO"
      }
    },
    {
      "cell_type": "markdown",
      "source": [
        "##### 2. What is/are the insight(s) found from the chart?"
      ],
      "metadata": {
        "id": "F6T5p64dYrdO"
      }
    },
    {
      "cell_type": "markdown",
      "source": [
        "### Insights from the Heatmap of Price, Horsepower, Curb Weight, Engine Size, City MPG, and Highway MPG:\n",
        "\n",
        "The heatmap visually represents the correlation between different numeric variables in the dataset. In this case, it helps identify the relationships between **price**, **horsepower**, **curb weight**, **engine size**, **city MPG**, and **highway MPG**. Here are the key insights we can draw from this heatmap:\n",
        "\n",
        "### 1. **Positive Correlations with Price**:\n",
        "   - **Horsepower**: A strong positive correlation between **horsepower** and **price** suggests that vehicles with higher horsepower tend to be more expensive. This is expected, as more powerful engines are often associated with premium or high-performance cars.\n",
        "   - **Curb Weight**: A positive correlation with **curb weight** indicates that heavier vehicles tend to have higher prices. This could reflect the fact that larger, heavier vehicles (such as SUVs and trucks) are more expensive, possibly due to their size, materials, and additional features.\n",
        "   - **Engine Size**: The heatmap is likely to show a strong positive correlation between **engine size** and **price**. Larger engines are often associated with more powerful vehicles, which tend to be more expensive due to increased performance and production costs.\n",
        "\n",
        "### 2. **Negative Correlations with Price**:\n",
        "   - **City MPG** and **Highway MPG**: A negative correlation between **city MPG** (miles per gallon in the city) and **highway MPG** with **price** suggests that more fuel-efficient vehicles tend to be less expensive. Vehicles with lower fuel efficiency, such as high-performance sports cars or large SUVs, may have higher prices due to their performance capabilities but lower fuel economy.\n",
        "\n",
        "### 3. **Correlation Between Horsepower and Other Variables**:\n",
        "   - **Horsepower and Engine Size**: A strong positive correlation between **horsepower** and **engine size** is expected, as larger engines typically produce more power.\n",
        "   - **Horsepower and Curb Weight**: Moderate to strong correlation between **horsepower** and **curb weight** suggests that more powerful engines are often found in heavier vehicles. This could be due to the fact that larger, more powerful engines are needed to move heavier cars efficiently.\n",
        "   \n",
        "### 4. **Fuel Efficiency (MPG) and Engine Variables**:\n",
        "   - **City MPG and Highway MPG**: A high positive correlation between these two variables indicates that vehicles that perform well in city driving conditions tend to be fuel-efficient on highways as well.\n",
        "   - **Engine Size and Fuel Efficiency**: Likely, there’s a negative correlation between **engine size** and **MPG** (both city and highway). Larger engines consume more fuel, leading to lower fuel efficiency, which can be useful for determining which types of vehicles are more eco-friendly.\n",
        "\n",
        "### 5. **Impact of Curb Weight**:\n",
        "   - **Curb Weight and Fuel Efficiency**: There’s likely a negative correlation between **curb weight** and both **city MPG** and **highway MPG**, suggesting that heavier vehicles tend to be less fuel-efficient. Heavier cars generally require more energy to move, which results in lower fuel economy.\n",
        "\n",
        "---\n",
        "\n",
        "\n"
      ],
      "metadata": {
        "id": "Xx8WAJvtYrdO"
      }
    },
    {
      "cell_type": "markdown",
      "source": [
        "##### 3. Will the gained insights help creating a positive business impact?\n",
        "Are there any insights that lead to negative growth? Justify with specific reason."
      ],
      "metadata": {
        "id": "y-Ehk30pYrdP"
      }
    },
    {
      "cell_type": "markdown",
      "source": [
        "### Will the Gained Insights Help Create a Positive Business Impact?\n",
        "\n",
        "Yes, the insights gained from the data analysis can significantly contribute to positive business outcomes. Here's how:\n",
        "\n",
        "1. **Pricing Strategy**:\n",
        "   - The strong correlation between **price** and variables like **horsepower**, **curb weight**, and **engine size** allows businesses to position vehicles with higher performance and larger sizes at premium prices. These insights can help manufacturers and dealerships tailor their marketing strategies for different customer segments, emphasizing power, luxury, or utility.\n",
        "   \n",
        "2. **Product Development**:\n",
        "   - Understanding the negative correlation between **price** and **fuel efficiency** (MPG) could drive automakers to innovate in producing more fuel-efficient vehicles while maintaining competitive pricing. This can be especially important as consumer demand for eco-friendly cars grows. Businesses can identify opportunities for hybrid or electric vehicle development that balances fuel efficiency and performance.\n",
        "\n",
        "3. **Target Market Identification**:\n",
        "   - The segmentation of vehicles based on attributes like **body style**, **engine size**, and **fuel efficiency** can help businesses identify specific consumer segments (e.g., performance enthusiasts, eco-conscious buyers, or budget buyers). This allows for better-targeted marketing campaigns, potentially improving sales conversions.\n",
        "   \n",
        "4. **Supply Chain and Inventory Management**:\n",
        "   - By knowing which factors (e.g., horsepower, curb weight) drive the most expensive vehicle models, businesses can optimize their inventory. High-value cars may be stocked differently depending on regional demand, aligning production and distribution strategies with consumer preferences.\n",
        "\n",
        "5. **Environmental Considerations**:\n",
        "   - With increasing emphasis on sustainability, the insight into how fuel efficiency correlates with pricing and vehicle attributes can guide manufacturers toward greener technology and marketing eco-friendly vehicles. This can enhance brand reputation and attract a growing segment of environmentally conscious customers.\n",
        "\n",
        "---\n",
        "\n",
        "### Are There Any Insights That Lead to Negative Growth?\n",
        "\n",
        "Yes, certain insights could potentially lead to negative growth if not addressed appropriately:\n",
        "\n",
        "1. **Fuel Inefficiency Impact on Sales**:\n",
        "   - The negative correlation between **fuel efficiency** and **price** could be a warning for businesses selling high-performance, less fuel-efficient vehicles. As fuel costs rise and environmental concerns grow, demand for these vehicles might decline. If a company continues focusing solely on large, fuel-inefficient cars, it risks losing market share to more eco-friendly competitors. This trend is especially relevant in markets where governments impose higher taxes or restrictions on high-emission vehicles.\n",
        "   \n",
        "   **Justification**: With the global shift toward sustainability, many customers prefer fuel-efficient or electric vehicles. If a company fails to innovate in this direction, it could lose relevance and face declining sales in the long run.\n",
        "\n",
        "2. **Higher-Priced, Heavier Vehicles May Lose Appeal**:\n",
        "   - Heavier vehicles tend to be priced higher (correlation between **curb weight** and **price**), but their lower fuel efficiency may turn off a growing segment of budget-conscious or environmentally aware customers. While luxury or performance car buyers may still prefer such vehicles, general market demand may shrink over time.\n",
        "   \n",
        "   **Justification**: Economic downturns or rising fuel prices could shift customer preferences toward more affordable and efficient cars. Companies relying on heavier, expensive models may face revenue declines unless they diversify their offerings.\n",
        "\n",
        "3. **Over-Emphasis on Performance**:\n",
        "   - A strong focus on **horsepower** and **engine size** may appeal to a niche audience but might alienate a larger audience looking for affordable, practical, and fuel-efficient options. If a company continues to prioritize these attributes without balancing them with fuel efficiency or cost-effective alternatives, it could lead to slower growth.\n",
        "   \n",
        "   **Justification**: Consumer demand for performance vehicles may remain high in certain markets, but global trends indicate a shift toward practicality and efficiency. If not balanced, the business could face stagnant or negative growth in broader markets.\n",
        "\n",
        "---\n",
        "\n",
        "### Conclusion:\n",
        "\n",
        "While the insights provide clear opportunities for **positive business impact** through better pricing strategies, product development, and market targeting, **negative growth** could arise if businesses don't adapt to the increasing demand for fuel efficiency and eco-friendly vehicles. Addressing these trends by diversifying offerings and focusing on innovation can help avoid stagnation and maintain long-term profitability."
      ],
      "metadata": {
        "id": "jLNxxz7MYrdP"
      }
    },
    {
      "cell_type": "markdown",
      "source": [
        "#### Chart - 5"
      ],
      "metadata": {
        "id": "bamQiAODYuh1"
      }
    },
    {
      "cell_type": "code",
      "source": [
        "# Chart - 5 visualization code\n",
        "\n",
        "# Calculate the average horsepower for each drivetrain configuration\n",
        "avg_horsepower = df.groupby('drive-wheels')['horsepower'].mean().reset_index()\n",
        "\n",
        "# Create a bar chart\n",
        "plt.figure(figsize=(10, 6))\n",
        "\n",
        "# Bar plot using seaborn\n",
        "sns.barplot(x='drive-wheels', y='horsepower', data=avg_horsepower, palette=\"coolwarm\")\n",
        "\n",
        "# Add title and labels\n",
        "plt.title('Average Horsepower by Drivetrain Configuration')\n",
        "plt.xlabel('Drivetrain Configuration')\n",
        "plt.ylabel('Average Horsepower')\n",
        "\n",
        "# Show the plot\n",
        "plt.show()\n"
      ],
      "metadata": {
        "id": "TIJwrbroYuh3"
      },
      "execution_count": null,
      "outputs": []
    },
    {
      "cell_type": "markdown",
      "source": [
        "##### 1. Why did you pick the specific chart?"
      ],
      "metadata": {
        "id": "QHF8YVU7Yuh3"
      }
    },
    {
      "cell_type": "markdown",
      "source": [
        "Bar plots are excellent for comparing discrete categories. In this case, different drivetrain configurations (e.g., front-wheel, rear-wheel, all-wheel drive) can be easily compared side by side to highlight differences in average horsepower."
      ],
      "metadata": {
        "id": "dcxuIMRPYuh3"
      }
    },
    {
      "cell_type": "markdown",
      "source": [
        "##### 2. What is/are the insight(s) found from the chart?"
      ],
      "metadata": {
        "id": "GwzvFGzlYuh3"
      }
    },
    {
      "cell_type": "markdown",
      "source": [
        "### Insights from the Average Horsepower by Drivetrain Bar Plot\n",
        "\n",
        "1. **Performance Variations**:\n",
        "   - The bar plot highlights distinct differences in average horsepower among the various drivetrain configurations. For instance, vehicles with rear-wheel drive (RWD) may show higher average horsepower compared to those with front-wheel drive (FWD), indicating a potential focus on performance-oriented vehicles in that category.\n",
        "\n",
        "2. **Market Segmentation**:\n",
        "   - The data can reveal consumer preferences for different drivetrain types. Higher average horsepower in certain configurations may appeal to performance enthusiasts, suggesting a market segment that values speed and power.\n",
        "\n",
        "3. **Design Implications**:\n",
        "   - Manufacturers can use these insights to guide their design and engineering processes. If RWD or all-wheel drive (AWD) configurations consistently offer higher horsepower, companies might prioritize these drivetrains in new models aimed at performance markets.\n",
        "\n",
        "4. **Consumer Expectations**:\n",
        "   - Understanding average horsepower by drivetrain helps set consumer expectations. For instance, buyers of vehicles with FWD may need to adjust their performance expectations compared to those purchasing RWD or AWD vehicles.\n",
        "\n",
        "5. **Strategic Marketing**:\n",
        "   - Marketers can tailor their messaging based on drivetrain performance. Highlighting the horsepower of specific configurations can enhance promotional strategies aimed at performance-driven customers.\n",
        "\n",
        "6. **Trends Over Time**:\n",
        "   - If historical data is available, analyzing how average horsepower by drivetrain has changed over time can provide insights into industry trends. A consistent increase in horsepower for specific drivetrains might indicate technological advancements and a shift in consumer demand toward more powerful vehicles.\n",
        "\n",
        "7. **Competitive Analysis**:\n",
        "   - Comparing average horsepower of similar vehicle types across different brands can help manufacturers identify competitive advantages or gaps in their product offerings. If competitors are consistently outperforming in horsepower for a particular drivetrain type, it may prompt a reevaluation of design strategies.\n",
        "\n"
      ],
      "metadata": {
        "id": "uyqkiB8YYuh3"
      }
    },
    {
      "cell_type": "markdown",
      "source": [
        "##### 3. Will the gained insights help creating a positive business impact?\n",
        "Are there any insights that lead to negative growth? Justify with specific reason."
      ],
      "metadata": {
        "id": "qYpmQ266Yuh3"
      }
    },
    {
      "cell_type": "markdown",
      "source": [
        "the insights drawn from this analysis can significantly inform decision-making processes for manufacturers, marketers, and consumers, ultimately contributing to enhanced vehicle performance, targeted marketing strategies, and better consumer satisfaction."
      ],
      "metadata": {
        "id": "_WtzZ_hCYuh4"
      }
    },
    {
      "cell_type": "markdown",
      "source": [
        "#### Chart - 6"
      ],
      "metadata": {
        "id": "OH-pJp9IphqM"
      }
    },
    {
      "cell_type": "code",
      "source": [
        "# Chart - 6 visualization code\n",
        "# Calculate average horsepower and price for each fuel type\n",
        "avg_fuel_performance = df.groupby('fuel-type')[['horsepower', 'price']].mean().reset_index()\n",
        "\n",
        "# Create a bar chart\n",
        "plt.figure(figsize=(12, 6))\n",
        "\n",
        "# Bar plot for average horsepower\n",
        "plt.subplot(1, 2, 1)\n",
        "sns.barplot(x='fuel-type', y='horsepower', data=avg_fuel_performance, palette='Set2')\n",
        "plt.title('Average Horsepower by Fuel Type')\n",
        "plt.xlabel('Fuel Type')\n",
        "plt.ylabel('Average Horsepower')\n",
        "\n",
        "# Bar plot for average price\n",
        "plt.subplot(1, 2, 2)\n",
        "sns.barplot(x='fuel-type', y='price', data=avg_fuel_performance, palette='Set2')\n",
        "plt.title('Average Price by Fuel Type')\n",
        "plt.xlabel('Fuel Type')\n",
        "plt.ylabel('Average Price')\n",
        "\n",
        "plt.tight_layout()\n",
        "plt.show()\n"
      ],
      "metadata": {
        "id": "kuRf4wtuphqN"
      },
      "execution_count": null,
      "outputs": []
    },
    {
      "cell_type": "markdown",
      "source": [
        "##### 1. Why did you pick the specific chart?"
      ],
      "metadata": {
        "id": "bbFf2-_FphqN"
      }
    },
    {
      "cell_type": "markdown",
      "source": [
        "Bar plots are ideal for comparing categorical variables like fuel type (e.g., gas, diesel). By using bars, the differences in average horsepower and average price between fuel types are visually clear, allowing for quick identification of which fuel type is associated with higher horsepower or price."
      ],
      "metadata": {
        "id": "loh7H2nzphqN"
      }
    },
    {
      "cell_type": "markdown",
      "source": [
        "##### 2. What is/are the insight(s) found from the chart?"
      ],
      "metadata": {
        "id": "_ouA3fa0phqN"
      }
    },
    {
      "cell_type": "markdown",
      "source": [
        "### Insights from the Bar Plots for Average Horsepower and Average Price by Fuel Type\n",
        "\n",
        "1. **Performance Differences by Fuel Type**:\n",
        "   - **Average Horsepower**: The bar plot comparing horsepower across fuel types (e.g., gas and diesel) shows clear differences in performance. Typically, **diesel engines** may exhibit higher average horsepower compared to **gas engines**, which is useful for vehicles requiring more power, such as trucks and SUVs. This suggests that diesel-powered vehicles are designed with more emphasis on performance and towing capacity.\n",
        "\n",
        "2. **Price Variations by Fuel Type**:\n",
        "   - **Average Price**: The bar plot comparing price across fuel types reveals that **diesel vehicles** may often be priced higher than their **gasoline** counterparts. This could be due to the higher cost of manufacturing diesel engines or the perceived durability and efficiency of diesel-powered cars. The higher price may also reflect the targeted market segment willing to pay more for performance and fuel efficiency.\n",
        "\n",
        "3. **Target Market Segmentation**:\n",
        "   - **Diesel vs. Gasoline**: The insights highlight that diesel vehicles, while offering higher horsepower, come with a higher price tag, potentially appealing to a market segment that prioritizes power and long-term efficiency. Conversely, gasoline vehicles, typically priced lower, may appeal to cost-conscious buyers prioritizing affordability.\n",
        "\n",
        "4. **Consumer Expectations**:\n",
        "   - **Fuel Type Influence**: Consumers looking for high performance or durability (as indicated by higher horsepower) are more likely to choose diesel vehicles, while those prioritizing lower upfront costs and broader availability might opt for gasoline-powered vehicles.\n",
        "\n",
        "5. **Business Strategy**:\n",
        "   - **Strategic Pricing**: These insights guide automotive companies in pricing strategies. Since diesel vehicles tend to offer more horsepower and higher performance, companies can justify higher pricing for diesel models, targeting performance-driven consumers. On the other hand, companies can promote gasoline-powered cars as more economical, expanding their appeal to a wider, cost-sensitive customer base.\n"
      ],
      "metadata": {
        "id": "VECbqPI7phqN"
      }
    },
    {
      "cell_type": "markdown",
      "source": [
        "##### 3. Will the gained insights help creating a positive business impact?\n",
        "Are there any insights that lead to negative growth? Justify with specific reason."
      ],
      "metadata": {
        "id": "Seke61FWphqN"
      }
    },
    {
      "cell_type": "markdown",
      "source": [
        "The bar plots provide clear insights into how fuel type influences both horsepower and price, with **diesel** generally offering more performance at a higher cost, while **gasoline** appeals to more budget-conscious consumers. This segmentation helps manufacturers target different markets effectively."
      ],
      "metadata": {
        "id": "DW4_bGpfphqN"
      }
    },
    {
      "cell_type": "markdown",
      "source": [
        "#### Chart - 7"
      ],
      "metadata": {
        "id": "PIIx-8_IphqN"
      }
    },
    {
      "cell_type": "code",
      "source": [
        "# Chart - 7 visualization code\n",
        "\n",
        "# Count the occurrences of each fuel type\n",
        "fuel_counts = df['fuel-type'].value_counts()\n",
        "\n",
        "# Create a pie chart for fuel type distribution\n",
        "plt.figure(figsize=(8, 8))\n",
        "plt.pie(fuel_counts, labels=fuel_counts.index, autopct='%1.1f%%', startangle=90, colors=['#ff9999','#66b3ff','#99ff99'])\n",
        "\n",
        "# Add a title\n",
        "plt.title('Distribution of Fuel Types in the Dataset')\n",
        "\n",
        "# Show the pie chart\n",
        "plt.show()\n"
      ],
      "metadata": {
        "id": "lqAIGUfyphqO"
      },
      "execution_count": null,
      "outputs": []
    },
    {
      "cell_type": "markdown",
      "source": [
        "##### 1. Why did you pick the specific chart?"
      ],
      "metadata": {
        "id": "t27r6nlMphqO"
      }
    },
    {
      "cell_type": "markdown",
      "source": [
        "A pie chart is ideal for showing the distribution of fuel types because it emphasizes proportions. It visually represents how much each fuel type (e.g., gasoline, diesel) contributes to the overall dataset. This makes it easy to see the relative market share of each fuel type."
      ],
      "metadata": {
        "id": "iv6ro40sphqO"
      }
    },
    {
      "cell_type": "markdown",
      "source": [
        "##### 2. What is/are the insight(s) found from the chart?"
      ],
      "metadata": {
        "id": "r2jJGEOYphqO"
      }
    },
    {
      "cell_type": "markdown",
      "source": [
        "### Insights from the Pie Chart of Fuel Type Distribution\n",
        "\n",
        "1. **Dominance of Gasoline**:\n",
        "   - If the pie chart shows that the majority of the vehicles use **gasoline** as their fuel type, it indicates that gasoline-powered vehicles dominate the market. This could be due to factors like **cost-efficiency**, **availability**, and **consumer preference** for gasoline engines over alternatives like diesel.\n",
        "\n",
        "2. **Niche Market for Diesel**:\n",
        "   - A smaller slice for **diesel** fuel suggests that diesel vehicles occupy a **niche** in the market. Diesel engines are often used in **specific vehicle types** like trucks or for buyers seeking **better fuel efficiency** and **higher torque** for towing or long-distance driving, though fewer in number.\n",
        "\n",
        "3. **Potential for Alternative Fuels**:\n",
        "   - If the dataset includes **alternative fuel types** (like electric or hybrid) and these have a small or non-existent share, it suggests there is either **limited adoption** of these technologies or that the dataset primarily focuses on traditional internal combustion engines.\n",
        "\n",
        "4. **Consumer Preferences**:\n",
        "   - The chart provides insight into **consumer preferences**. A larger portion for gasoline vehicles might reflect buyers prioritizing factors like **purchase price** and **ease of maintenance**, while diesel's smaller share may reflect its appeal to a **specific subset** of buyers valuing fuel efficiency and performance.\n",
        "\n",
        "5. **Market Segmentation**:\n",
        "   - Manufacturers can use these insights for **market segmentation**. If gasoline dominates, they may focus marketing efforts on gasoline-powered models while developing **diesel-specific campaigns** for targeted segments like commercial vehicle owners.\n",
        "\n",
        "6. **Environmental and Policy Impacts**:\n",
        "   - If diesel has a very small share, it could be due to **environmental regulations** and changing policies that favor gasoline or alternative fuels over diesel, especially in regions where emissions standards are stricter.\n",
        "\n"
      ],
      "metadata": {
        "id": "Po6ZPi4hphqO"
      }
    },
    {
      "cell_type": "markdown",
      "source": [
        "##### 3. Will the gained insights help creating a positive business impact?\n",
        "Are there any insights that lead to negative growth? Justify with specific reason."
      ],
      "metadata": {
        "id": "b0JNsNcRphqO"
      }
    },
    {
      "cell_type": "markdown",
      "source": [
        " the pie chart reveals the **market distribution** of fuel types, indicating gasoline’s dominance and diesel’s niche role, providing valuable insights for manufacturers, marketers, and policymakers in understanding consumer behavior and planning future vehicle development."
      ],
      "metadata": {
        "id": "xvSq8iUTphqO"
      }
    },
    {
      "cell_type": "markdown",
      "source": [
        "#### Chart - 8"
      ],
      "metadata": {
        "id": "BZR9WyysphqO"
      }
    },
    {
      "cell_type": "code",
      "source": [
        "# Chart - 8 visualization code\n",
        "\n",
        "# Create a scatter plot for Curb Weight vs. Horsepower\n",
        "plt.figure(figsize=(10, 6))\n",
        "sns.scatterplot(x='curb-weight', y='horsepower', data=df, alpha=0.7, color='blue')\n",
        "\n",
        "# Add a regression line to show the trend\n",
        "sns.regplot(x='curb-weight', y='horsepower', data=df, scatter=False, color='orange')\n",
        "\n",
        "# Add title and labels\n",
        "plt.title('Curb Weight vs. Horsepower')\n",
        "plt.xlabel('Curb Weight (lbs)')\n",
        "plt.ylabel('Horsepower')\n",
        "plt.grid()\n",
        "\n",
        "# Show the plot\n",
        "plt.show()\n"
      ],
      "metadata": {
        "id": "TdPTWpAVphqO"
      },
      "execution_count": null,
      "outputs": []
    },
    {
      "cell_type": "markdown",
      "source": [
        "##### 1. Why did you pick the specific chart?"
      ],
      "metadata": {
        "id": "jj7wYXLtphqO"
      }
    },
    {
      "cell_type": "markdown",
      "source": [
        "A regression plot is ideal for showing the relationship between two continuous variables: curb weight (the weight of the vehicle without passengers or cargo) and horsepower (the engine's power output). It helps visualize how these two attributes are correlated and whether a heavier vehicle tends to have more horsepower."
      ],
      "metadata": {
        "id": "Ob8u6rCTphqO"
      }
    },
    {
      "cell_type": "markdown",
      "source": [
        "##### 2. What is/are the insight(s) found from the chart?"
      ],
      "metadata": {
        "id": "eZrbJ2SmphqO"
      }
    },
    {
      "cell_type": "markdown",
      "source": [
        "### Insights from the Curb Weight vs. Horsepower Regression Plot\n",
        "\n",
        "1. **Positive Correlation**:\n",
        "   - The regression plot likely shows a **positive correlation** between **curb weight** and **horsepower**. This means that as the **weight** of the vehicle increases, the **horsepower** also tends to increase. Heavier vehicles typically require more powerful engines to maintain performance, explaining this trend.\n",
        "\n",
        "2. **Performance-Oriented Vehicles**:\n",
        "   - Vehicles with **higher curb weights** (e.g., SUVs, trucks) usually have **higher horsepower** to provide adequate performance, suggesting that these vehicles are designed for heavy-duty tasks, such as towing or off-road driving, where more power is required.\n",
        "\n",
        "3. **Fuel Efficiency Considerations**:\n",
        "   - While the plot shows that heavier vehicles have more horsepower, this could also indicate a **trade-off with fuel efficiency**. Vehicles with high curb weight and horsepower are generally less fuel-efficient, which could be a concern for consumers focused on economy.\n",
        "\n",
        "4. **Design Implications**:\n",
        "   - Manufacturers can use this insight to balance **design choices**. For lighter vehicles, lower horsepower may be sufficient for optimal performance, while heavier vehicles require more powerful engines, impacting **engine design** and **vehicle cost**.\n",
        "\n",
        "5. **Outliers**:\n",
        "   - If there are any **outliers** in the plot, they represent vehicles that do not follow the typical trend—e.g., lighter vehicles with high horsepower or heavier vehicles with lower horsepower. This could be due to specific engineering choices or specialized designs (e.g., sports cars with lightweight frames but high power).\n",
        "\n",
        "6. **Product Development Strategy**:\n",
        "   - The insights help manufacturers align their **product development strategies**. They can design vehicles with horsepower tailored to their weight class, ensuring performance is optimized while potentially managing costs by not over-engineering lighter models.\n",
        "\n"
      ],
      "metadata": {
        "id": "mZtgC_hjphqO"
      }
    },
    {
      "cell_type": "markdown",
      "source": [
        "##### 3. Will the gained insights help creating a positive business impact?\n",
        "Are there any insights that lead to negative growth? Justify with specific reason."
      ],
      "metadata": {
        "id": "rFu4xreNphqO"
      }
    },
    {
      "cell_type": "markdown",
      "source": [
        "the regression plot reveals a **strong link** between curb weight and horsepower, offering valuable insights for **vehicle design**, **performance optimization**, and understanding the trade-offs between weight, power, and efficiency."
      ],
      "metadata": {
        "id": "ey_0qi68phqO"
      }
    },
    {
      "cell_type": "markdown",
      "source": [
        "#### Chart - 9"
      ],
      "metadata": {
        "id": "YJ55k-q6phqO"
      }
    },
    {
      "cell_type": "code",
      "source": [
        "# Chart - 9 visualization code\n",
        "\n",
        "# Create the scatter plot\n",
        "plt.figure(figsize=(10, 6))\n",
        "sns.scatterplot(x='curb-weight', y='price', data=df, color='b', marker='o')\n",
        "\n",
        "# Add title and labels\n",
        "plt.title('Price vs. Curb Weight')\n",
        "plt.xlabel('Curb Weight')\n",
        "plt.ylabel('Price')\n",
        "\n",
        "# Show the plot\n",
        "plt.show()\n"
      ],
      "metadata": {
        "id": "B2aS4O1ophqO"
      },
      "execution_count": null,
      "outputs": []
    },
    {
      "cell_type": "markdown",
      "source": [
        "##### 1. Why did you pick the specific chart?"
      ],
      "metadata": {
        "id": "gCFgpxoyphqP"
      }
    },
    {
      "cell_type": "markdown",
      "source": [
        "### Reason for Choosing a Scatter Plot for Price vs. Curb Weight\n",
        "\n",
        "1. **Visualizing Relationship Between Two Variables**:\n",
        "   - A **scatter plot** is ideal for visualizing the relationship between two continuous variables, in this case, **price** and **curb weight**. It effectively shows how the **price** of a vehicle changes as its **curb weight** increases or decreases.\n",
        "\n",
        "2. **Detecting Patterns and Trends**:\n",
        "   - The scatter plot helps identify whether there is a **pattern** or **correlation** between the two variables. For example, heavier vehicles might tend to be more expensive, and this can be easily spotted in a scatter plot by observing the concentration of data points.\n",
        "\n",
        "3. **Outlier Identification**:\n",
        "   - A scatter plot also highlights **outliers**—vehicles that have an unusually high or low price for their curb weight. Identifying these outliers can be helpful in understanding **exceptions** to the general trend and investigating special cases, such as luxury or performance cars.\n",
        "\n",
        "4. **Clustering Insight**:\n",
        "   - If clusters of points appear, it might suggest **distinct categories** of vehicles, such as compact, midsize, and large vehicles, each with their own price range. This is particularly useful for **customer segmentation** and **market analysis**.\n",
        "\n",
        "5. **Simplicity and Clarity**:\n",
        "   - Scatter plots provide a **clear, simple visualization** that is easy to interpret. The relationship between price and curb weight can be assessed visually without the need for complex statistical techniques, making it accessible for quick business decision-making.\n",
        "\n",
        "6. **Exploring Variability**:\n",
        "   - Scatter plots also show the **variability** in data. Even if there is a general trend (like heavier vehicles being more expensive), the scatter plot reveals the spread of data points, helping businesses understand how **consistent** the relationship is.\n",
        "\n"
      ],
      "metadata": {
        "id": "TVxDimi2phqP"
      }
    },
    {
      "cell_type": "markdown",
      "source": [
        "##### 2. What is/are the insight(s) found from the chart?"
      ],
      "metadata": {
        "id": "OVtJsKN_phqQ"
      }
    },
    {
      "cell_type": "markdown",
      "source": [
        "### Insights from the Scatter Plot of Price vs. Curb Weight\n",
        "\n",
        "1. **Positive Correlation**:\n",
        "   - The scatter plot likely shows a **positive correlation** between **price** and **curb weight**. As the curb weight of vehicles increases, their price tends to rise as well. This suggests that heavier vehicles often come with additional features, capabilities, or manufacturing costs that contribute to higher pricing.\n",
        "\n",
        "2. **Market Segmentation**:\n",
        "   - The distribution of data points may reveal different **market segments**. For example, if certain clusters of points are present, it might indicate specific categories of vehicles (e.g., compact cars, sedans, SUVs, and trucks) with distinct pricing strategies based on their weight class.\n",
        "\n",
        "3. **Outliers and Anomalies**:\n",
        "   - The presence of **outliers** can be observed in the scatter plot. For instance, a lightweight vehicle priced significantly higher than the majority of heavy vehicles could represent luxury brands or performance vehicles that prioritize features or brand prestige over typical weight-based pricing.\n",
        "\n",
        "4. **Price Distribution**:\n",
        "   - If the data points are spread out widely for certain weights, it indicates that there is a **diverse pricing strategy** within specific weight categories. This variability might stem from features, performance, or brand positioning.\n",
        "\n",
        "5. **Identifying Value for Money**:\n",
        "   - By analyzing the scatter plot, consumers and businesses can identify vehicles that offer good **value for money** based on their curb weight and price. For instance, a heavier vehicle with a relatively low price might present an attractive option for buyers.\n",
        "\n",
        "6. **Implications for Manufacturers**:\n",
        "   - Insights from the scatter plot can help manufacturers adjust their pricing strategies. If heavy vehicles consistently show higher prices, it may warrant a focus on improving value through features or technology, especially for vehicles in competitive weight ranges.\n",
        "\n",
        "7. **Fuel Efficiency Considerations**:\n",
        "   - The plot might suggest that while heavier vehicles often have higher prices, they may also impact fuel efficiency differently. This is a vital consideration for consumers prioritizing cost of ownership over the initial purchase price.\n",
        "\n",
        "8. **Future Product Development**:\n",
        "   - Insights from the scatter plot can guide manufacturers in developing future products. For example, understanding the weight-to-price ratio can help in designing vehicles that are competitively priced while maintaining desired curb weight for performance and safety.\n"
      ],
      "metadata": {
        "id": "ngGi97qjphqQ"
      }
    },
    {
      "cell_type": "markdown",
      "source": [
        "##### 3. Will the gained insights help creating a positive business impact?\n",
        "Are there any insights that lead to negative growth? Justify with specific reason."
      ],
      "metadata": {
        "id": "lssrdh5qphqQ"
      }
    },
    {
      "cell_type": "markdown",
      "source": [
        "### Will the Gained Insights Help Create a Positive Business Impact?\n",
        "\n",
        "1. **Informed Pricing Strategies**:\n",
        "   - Understanding the correlation between **price** and **curb weight** allows manufacturers to develop more effective pricing strategies. By identifying how weight influences price, companies can set competitive prices that align with consumer expectations, ultimately leading to increased sales and profitability.\n",
        "\n",
        "2. **Targeted Marketing and Segmentation**:\n",
        "   - Insights from the scatter plot enable businesses to segment the market effectively. By recognizing different consumer segments based on vehicle weight and price, marketing efforts can be tailored to address specific needs and preferences, enhancing customer engagement and conversion rates.\n",
        "\n",
        "3. **Product Development and Innovation**:\n",
        "   - Insights about the relationship between curb weight and price can inform product development decisions. Manufacturers can prioritize features that resonate with consumers and optimize the weight of vehicles to improve performance and fuel efficiency, thus creating a better product that appeals to the market.\n",
        "\n",
        "4. **Competitive Advantage**:\n",
        "   - By analyzing how different body styles and weights correlate with pricing, businesses can identify gaps in the market. This knowledge allows them to position themselves more strategically against competitors, leading to increased market share and brand loyalty.\n",
        "\n",
        "5. **Sustainability and Efficiency**:\n",
        "   - If heavier vehicles generally have higher prices, understanding the dynamics can drive companies to focus on lightweight materials or technologies that maintain performance while reducing costs. This can improve overall vehicle efficiency, benefiting both the environment and the bottom line.\n",
        "\n",
        "### Are There Any Insights That Lead to Negative Growth? Justify with Specific Reason\n",
        "\n",
        "1. **Misalignment with Consumer Expectations**:\n",
        "   - If the scatter plot indicates that higher curb weight consistently leads to significantly higher prices, it may deter budget-conscious consumers from purchasing heavier vehicles. This misalignment between consumer expectations and pricing could lead to decreased sales, negatively impacting revenue.\n",
        "\n",
        "2. **Market Saturation in Heavy Vehicles**:\n",
        "   - If the data reveals that many competitors are producing heavy vehicles with similar price points, this could result in market saturation. In such cases, it may become increasingly difficult to differentiate products, leading to price wars and reduced profit margins, which can hinder growth.\n",
        "\n",
        "3. **Increased Production Costs**:\n",
        "   - A trend of heavier vehicles commanding higher prices may encourage manufacturers to focus on heavier models to increase revenue. However, if these vehicles require significantly more expensive materials or components, the increase in production costs might offset the potential gains, leading to reduced profitability.\n",
        "\n",
        "4. **Regulatory Compliance and Consumer Trends**:\n",
        "   - Insights suggesting a consistent trend towards heavier vehicles may conflict with evolving consumer preferences for **fuel efficiency** and **environmental sustainability**. If businesses ignore this shift and continue to emphasize heavy vehicles, they risk losing relevance in a market that increasingly values eco-friendly options.\n",
        "\n",
        "5. **Dependence on Performance Features**:\n",
        "   - If the analysis shows that higher curb weight is often associated with vehicles that rely on performance features (e.g., horsepower), companies may overinvest in these features. This could lead to financial strain if consumers prioritize fuel economy and affordability over performance in the long term.\n",
        "\n",
        "\n",
        "\n"
      ],
      "metadata": {
        "id": "tBpY5ekJphqQ"
      }
    },
    {
      "cell_type": "markdown",
      "source": [
        "#### Chart - 10"
      ],
      "metadata": {
        "id": "U2RJ9gkRphqQ"
      }
    },
    {
      "cell_type": "code",
      "source": [
        "# Chart - 10 visualization code\n",
        "# Calculate fuel efficiency by averaging city-mpg and highway-mpg\n",
        "df['fuel-efficiency'] = (df['city-mpg'] + df['highway-mpg']) / 2\n",
        "\n",
        "# Verify the new column is added\n",
        "print(df[['city-mpg', 'highway-mpg', 'fuel-efficiency']].head())\n",
        "\n",
        "# Group by body style and calculate the average fuel efficiency\n",
        "avg_fuel_efficiency = df.groupby('body-style')['fuel-efficiency'].mean().reset_index()\n",
        "\n",
        "# Line plot for Average Fuel Efficiency by Body Style\n",
        "plt.figure(figsize=(10, 6))\n",
        "sns.lineplot(x='body-style', y='fuel-efficiency', data=avg_fuel_efficiency, marker='o', color='green')\n",
        "\n",
        "# Add title and labels\n",
        "plt.title('Average Fuel Efficiency by Body Style')\n",
        "plt.xlabel('Body Style')\n",
        "plt.ylabel('Fuel Efficiency (MPG)')\n",
        "\n",
        "# Show the plot\n",
        "plt.show()\n",
        "\n"
      ],
      "metadata": {
        "id": "GM7a4YP4phqQ"
      },
      "execution_count": null,
      "outputs": []
    },
    {
      "cell_type": "markdown",
      "source": [
        "##### 1. Why did you pick the specific chart?"
      ],
      "metadata": {
        "id": "1M8mcRywphqQ"
      }
    },
    {
      "cell_type": "markdown",
      "source": [
        "A line plot effectively showcases trends over categorical data. By using it to illustrate average fuel efficiency across different body styles, it's easy to observe how fuel efficiency varies from one body style to another. This clarity in trends can aid stakeholders in understanding performance metrics quickly."
      ],
      "metadata": {
        "id": "8agQvks0phqQ"
      }
    },
    {
      "cell_type": "markdown",
      "source": [
        "##### 2. What is/are the insight(s) found from the chart?"
      ],
      "metadata": {
        "id": "tgIPom80phqQ"
      }
    },
    {
      "cell_type": "markdown",
      "source": [
        "### Insights Found from the Line Plot of Average Fuel Efficiency by Body Style\n",
        "\n",
        "1. **Variation in Fuel Efficiency**:\n",
        "   - The line plot clearly demonstrates that different body styles exhibit varying levels of average fuel efficiency. For instance, smaller body styles like sedans and hatchbacks typically show higher fuel efficiency compared to larger body styles such as SUVs and trucks. This insight is crucial for consumers prioritizing fuel economy.\n",
        "\n",
        "2. **Trends and Patterns**:\n",
        "   - If the line plot shows a distinct upward or downward trend for certain body styles, it can indicate a shift in consumer preferences or improvements in technology. For example, if SUVs show a steady increase in fuel efficiency over time, it might suggest that manufacturers are responding to consumer demands for more efficient larger vehicles.\n",
        "\n",
        "3. **Market Positioning**:\n",
        "   - The insights gained from this plot can inform manufacturers about where they stand in terms of fuel efficiency compared to competitors. If a specific body style, like a compact SUV, is showing relatively low efficiency compared to others, this could signal the need for redesign or technological enhancements.\n",
        "\n",
        "4. **Consumer Preferences**:\n",
        "   - Understanding which body styles offer the best fuel efficiency can guide marketing strategies. If hatchbacks and sedans consistently lead in fuel efficiency, manufacturers could emphasize these models in their marketing campaigns targeting environmentally-conscious consumers.\n",
        "\n",
        "5. **Impact on Pricing Strategies**:\n",
        "   - The relationship between body style and fuel efficiency may impact pricing strategies. Models with higher fuel efficiency might be priced at a premium, appealing to buyers willing to invest more for long-term savings on fuel costs. Conversely, lower efficiency models might need to be competitively priced to attract cost-conscious consumers.\n",
        "\n",
        "6. **Regulatory Compliance**:\n",
        "   - Insights from fuel efficiency data can also help manufacturers ensure compliance with increasingly stringent environmental regulations. If specific body styles are lagging in fuel efficiency, it may prompt companies to invest in R&D to meet future regulatory standards.\n",
        "\n",
        "7. **Opportunities for Innovation**:\n",
        "   - The plot may reveal potential gaps in the market. If there's a noticeable absence of efficient options in a certain body style category, it might indicate an opportunity for innovation. For example, manufacturers could explore developing hybrids or electric versions of traditionally less efficient body styles.\n",
        "\n",
        "\n"
      ],
      "metadata": {
        "id": "Qp13pnNzphqQ"
      }
    },
    {
      "cell_type": "markdown",
      "source": [
        "##### 3. Will the gained insights help creating a positive business impact?\n",
        "Are there any insights that lead to negative growth? Justify with specific reason."
      ],
      "metadata": {
        "id": "JMzcOPDDphqR"
      }
    },
    {
      "cell_type": "markdown",
      "source": [
        "\n",
        "\n",
        "Overall, the insights derived from the line plot of average fuel efficiency by body style provide valuable information for consumers, manufacturers, and marketers. They highlight trends in fuel efficiency, inform strategic decisions, and indicate areas for improvement and innovation within the automotive industry."
      ],
      "metadata": {
        "id": "R4Ka1PC2phqR"
      }
    },
    {
      "cell_type": "markdown",
      "source": [
        "#### Chart - 11"
      ],
      "metadata": {
        "id": "x-EpHcCOp1ci"
      }
    },
    {
      "cell_type": "code",
      "source": [
        "# Chart - 11 visualization code\n",
        "\n",
        "\n",
        "# Set the figure size for the plot\n",
        "plt.figure(figsize=(12, 6))\n",
        "\n",
        "# Create a grouped bar plot for Drive-Wheel Configuration and Fuel Type against Price\n",
        "sns.barplot(x='drive-wheels', y='price', hue='fuel-type', data=df, palette='Set2')\n",
        "\n",
        "# Add title and labels\n",
        "plt.title('Price by Drive-Wheel Configuration and Fuel Type')\n",
        "plt.xlabel('Drive-Wheel Configuration')\n",
        "plt.ylabel('Average Price')\n",
        "\n",
        "# Show the plot\n",
        "plt.show()\n",
        "\n",
        "\n"
      ],
      "metadata": {
        "id": "mAQTIvtqp1cj"
      },
      "execution_count": null,
      "outputs": []
    },
    {
      "cell_type": "markdown",
      "source": [
        "##### 1. Why did you pick the specific chart?"
      ],
      "metadata": {
        "id": "X_VqEhTip1ck"
      }
    },
    {
      "cell_type": "markdown",
      "source": [
        "The bar plot effectively compares the average price of vehicles across different drive-wheel configurations (rwd, fwd, 4wd) and distinguishes between fuel types (gas and diesel). This allows for an immediate visual assessment of how price varies with these categories."
      ],
      "metadata": {
        "id": "-vsMzt_np1ck"
      }
    },
    {
      "cell_type": "markdown",
      "source": [
        "##### 2. What is/are the insight(s) found from the chart?"
      ],
      "metadata": {
        "id": "8zGJKyg5p1ck"
      }
    },
    {
      "cell_type": "markdown",
      "source": [
        "Price Variations by Drive-Wheel Configuration:\n",
        "\n",
        "RWD (Rear-Wheel Drive) vehicles appear to have the highest average price, followed by FWD (Front-Wheel Drive) and 4WD (Four-Wheel Drive). This suggests that RWD vehicles might be perceived as higher-end or performance-oriented, commanding a premium price.\n",
        "Impact of Fuel Type:\n",
        "\n",
        "Diesel vehicles generally have a higher average price compared to gasoline vehicles across all drive-wheel configurations. This could be due to the added cost of diesel engines or their positioning as more premium or efficient options.\n",
        "Market Segmentation:\n",
        "\n",
        "The data can help in identifying market segments. For instance, the higher prices of RWD vehicles suggest a target demographic willing to invest more in performance. In contrast, the lower prices of FWD and 4WD vehicles may appeal to cost-conscious consumers.\n",
        "Reliability of Data:\n",
        "\n",
        "The presence of error bars indicates that while average prices differ, there is variability within each category. This insight could prompt further investigation into the factors influencing pricing, such as vehicle features, brand reputation, or market demand.\n",
        "Strategic Pricing Decisions:\n",
        "\n",
        "The insights gained from this plot can guide strategic pricing decisions, marketing campaigns, and inventory management, ensuring that products are aligned with consumer expectations and market dynamics.\n",
        "Consumer Preferences:\n",
        "\n",
        "The pricing trends might reflect consumer preferences, indicating that certain configurations and fuel types are more desirable in the current market. This information can help manufacturers focus their marketing efforts on the most profitable segments."
      ],
      "metadata": {
        "id": "ZYdMsrqVp1ck"
      }
    },
    {
      "cell_type": "markdown",
      "source": [
        "##### 3. Will the gained insights help creating a positive business impact?\n",
        "Are there any insights that lead to negative growth? Justify with specific reason."
      ],
      "metadata": {
        "id": "PVzmfK_Ep1ck"
      }
    },
    {
      "cell_type": "markdown",
      "source": [
        "This bar plot provides a clear visualization of how average vehicle prices vary by drive-wheel configuration and fuel type, highlighting key insights that can inform pricing strategies and market positioning for automobile manufacturers and marketers."
      ],
      "metadata": {
        "id": "druuKYZpp1ck"
      }
    },
    {
      "cell_type": "markdown",
      "source": [
        "#### Chart - 12"
      ],
      "metadata": {
        "id": "n3dbpmDWp1ck"
      }
    },
    {
      "cell_type": "code",
      "source": [
        "# Chart - 12 visualization code\n",
        "# Count the occurrences of each body style\n",
        "body_style_counts = df['body-style'].value_counts()\n",
        "\n",
        "# Create a pie chart for body style\n",
        "plt.figure(figsize=(8, 8))\n",
        "plt.pie(body_style_counts, labels=body_style_counts.index, autopct='%1.1f%%', startangle=90, colors=['#ff9999','#66b3ff','#99ff99', '#ffcc99', '#c2c2f0'])\n",
        "\n",
        "# Equal aspect ratio ensures that pie is drawn as a circle\n",
        "plt.axis('equal')\n",
        "\n",
        "# Add a title\n",
        "plt.title('Distribution of Body Styles')\n",
        "\n",
        "# Show the plot\n",
        "plt.show()\n",
        "\n",
        "\n",
        "\n"
      ],
      "metadata": {
        "id": "bwevp1tKp1ck"
      },
      "execution_count": null,
      "outputs": []
    },
    {
      "cell_type": "markdown",
      "source": [
        "##### 1. Why did you pick the specific chart?"
      ],
      "metadata": {
        "id": "ylSl6qgtp1ck"
      }
    },
    {
      "cell_type": "markdown",
      "source": [
        "A pie chart is ideal for representing the proportion of different categories within a whole. In this case, it effectively shows the distribution of various body styles of vehicles as parts of the overall dataset.\n",
        "\n"
      ],
      "metadata": {
        "id": "m2xqNkiQp1ck"
      }
    },
    {
      "cell_type": "markdown",
      "source": [
        "##### 2. What is/are the insight(s) found from the chart?"
      ],
      "metadata": {
        "id": "ZWILFDl5p1ck"
      }
    },
    {
      "cell_type": "markdown",
      "source": [
        "Dominance of Sedans: Sedans make up 46.8% of the total body styles, indicating that they are the most common choice among consumers. This suggests a strong market preference for sedans, likely due to their practicality, comfort, and versatility.\n",
        "\n",
        "Significant Portion for Hatchbacks: Hatchbacks constitute 34.1% of the distribution, highlighting their popularity as a compact and versatile option. This insight may suggest that consumers value the balance between size and functionality that hatchbacks offer.\n",
        "\n",
        "Minor Presence of Other Styles: Body styles like convertibles (2.9%) and hardtops (3.9%) represent a small fraction of the market, indicating they may be niche products with less broad consumer appeal. This could guide manufacturers in considering production and marketing strategies.\n",
        "\n",
        "Wagon and Coupe Styles: Wagons (12.2%) also have a notable presence, which might appeal to families or consumers needing more cargo space. Coupled with the minor categories, these insights indicate specific market segments that might require tailored marketing approaches.\n",
        "\n",
        "Market Strategy Implications: The distribution shows where demand lies, suggesting manufacturers and marketers might focus on enhancing sedan and hatchback offerings, while considering whether niche markets for convertibles and hardtops are worth pursuing."
      ],
      "metadata": {
        "id": "x-lUsV2mp1ck"
      }
    },
    {
      "cell_type": "markdown",
      "source": [
        "##### 3. Will the gained insights help creating a positive business impact?\n",
        "Are there any insights that lead to negative growth? Justify with specific reason."
      ],
      "metadata": {
        "id": "M7G43BXep1ck"
      }
    },
    {
      "cell_type": "markdown",
      "source": [
        "he pie chart provides clear and insightful data about the distribution of body styles in the automobile market, guiding manufacturers and marketers in understanding consumer preferences and optimizing their strategies accordingly."
      ],
      "metadata": {
        "id": "5wwDJXsLp1cl"
      }
    },
    {
      "cell_type": "markdown",
      "source": [
        "#### Chart - 13"
      ],
      "metadata": {
        "id": "Ag9LCva-p1cl"
      }
    },
    {
      "cell_type": "code",
      "source": [
        "# Chart - 13 visualization code\n",
        "\n",
        "\n",
        "\n",
        "# Group the data to get counts of body styles for each symboling category\n",
        "body_style_counts = df.groupby(['body-style', 'symboling']).size().reset_index(name='count')\n",
        "\n",
        "# Create a pie chart for each body style's distribution across insurance risk\n",
        "num_body_styles = body_style_counts['body-style'].nunique()  # Get the number of unique body styles\n",
        "\n",
        "# Determine the number of rows and columns needed for subplots\n",
        "cols = 2  # Number of columns\n",
        "rows = (num_body_styles + cols - 1) // cols  # Calculate rows needed\n",
        "\n",
        "plt.figure(figsize=(10, rows * 5))  # Adjust the figure size based on the number of rows\n",
        "\n",
        "# Loop through each body style and create a pie chart\n",
        "for i, body_style in enumerate(body_style_counts['body-style'].unique()):\n",
        "    plt.subplot(rows, cols, i + 1)  # Create a subplot for each body style\n",
        "    data = body_style_counts[body_style_counts['body-style'] == body_style]\n",
        "\n",
        "    plt.pie(data['count'], labels=data['symboling'], autopct='%1.1f%%', startangle=90)\n",
        "    plt.title(f'Insurance Risk Distribution for {body_style}')\n",
        "\n",
        "plt.tight_layout()\n",
        "plt.show()\n",
        "\n"
      ],
      "metadata": {
        "id": "EUfxeq9-p1cl"
      },
      "execution_count": null,
      "outputs": []
    },
    {
      "cell_type": "markdown",
      "source": [
        "##### 1. Why did you pick the specific chart?"
      ],
      "metadata": {
        "id": "E6MkPsBcp1cl"
      }
    },
    {
      "cell_type": "markdown",
      "source": [
        "Each chart is straightforward, allowing stakeholders to quickly grasp the proportion of each risk category (e.g., high risk, medium risk, low risk) within each body style. This visual clarity aids in decision-making processes."
      ],
      "metadata": {
        "id": "V22bRsFWp1cl"
      }
    },
    {
      "cell_type": "markdown",
      "source": [
        "##### 2. What is/are the insight(s) found from the chart?"
      ],
      "metadata": {
        "id": "2cELzS2fp1cl"
      }
    },
    {
      "cell_type": "markdown",
      "source": [
        "Convertible:\n",
        "\n",
        "High Risk: A significant 83.3% of the insurance risks associated with convertibles fall into the high-risk category. This suggests that convertibles might be more prone to accidents or theft, which could lead insurers to increase premiums.\n",
        "Hardtop:\n",
        "\n",
        "Mixed Risk: The hardtop shows a more balanced distribution, with 50% in the medium risk category and the remaining split between low and high risks. This indicates that hardtops may represent a safer choice compared to convertibles, appealing to a different market segment.\n",
        "Hatchback:\n",
        "\n",
        "Diverse Risk Levels: The hatchback category displays a variety of risk levels, with 38.6% classified as medium risk and a substantial 28.6% as high risk. This variation suggests that while hatchbacks can be relatively safe, there are significant concerns about specific models.\n",
        "Sedan:\n",
        "\n",
        "Predominantly Low Risk: Sedans have the highest proportion (44.8%) in the low-risk category, indicating they are generally perceived as safer vehicles. The diverse distribution across risk levels may suggest varying designs or features among different sedan models.\n",
        "Wagon:\n",
        "\n",
        "High Low-Risk Percentage: With 60% categorized as low risk, wagons appear to be a favorable option for insurance, likely appealing to families or those seeking practical vehicles. However, the presence of 12% in the high-risk category could indicate specific models that are problematic."
      ],
      "metadata": {
        "id": "ozQPc2_Ip1cl"
      }
    },
    {
      "cell_type": "markdown",
      "source": [
        "##### 3. Will the gained insights help creating a positive business impact?\n",
        "Are there any insights that lead to negative growth? Justify with specific reason."
      ],
      "metadata": {
        "id": "3MPXvC8up1cl"
      }
    },
    {
      "cell_type": "markdown",
      "source": [
        "The pie charts effectively communicate the risk distributions associated with different vehicle body styles. The insights gained from these visualizations can help insurance companies adjust their pricing models, tailor coverage options, and develop marketing strategies targeted toward specific consumer segments based on the risk profile of each body style."
      ],
      "metadata": {
        "id": "GL8l1tdLp1cl"
      }
    },
    {
      "cell_type": "markdown",
      "source": [
        "#### Chart - 14 - Correlation Heatmap"
      ],
      "metadata": {
        "id": "NC_X3p0fY2L0"
      }
    },
    {
      "cell_type": "code",
      "source": [
        "# Correlation Heatmap visualization code\n",
        "\n",
        "\n",
        "# Select a new set of numerical features for correlation analysis\n",
        "new_correlation_features = df[['engine-size', 'city-mpg', 'highway-mpg', 'horsepower']]\n",
        "\n",
        "# Calculate the correlation matrix\n",
        "new_correlation_matrix = new_correlation_features.corr()\n",
        "\n",
        "# Set up the matplotlib figure\n",
        "plt.figure(figsize=(10, 8))\n",
        "\n",
        "# Create a heatmap\n",
        "sns.heatmap(new_correlation_matrix, annot=True, fmt=\".2f\", cmap='coolwarm', square=True, cbar_kws={\"shrink\": .8})\n",
        "\n",
        "# Add title\n",
        "plt.title('Correlation Heatmap of Engine Size, MPG, and Horsepower')\n",
        "\n",
        "# Show the plot\n",
        "plt.show()\n",
        "\n"
      ],
      "metadata": {
        "id": "xyC9zolEZNRQ"
      },
      "execution_count": null,
      "outputs": []
    },
    {
      "cell_type": "markdown",
      "source": [
        "##### 1. Why did you pick the specific chart?"
      ],
      "metadata": {
        "id": "UV0SzAkaZNRQ"
      }
    },
    {
      "cell_type": "markdown",
      "source": [
        "Heatmaps quantify correlations, allowing for a more straightforward interpretation of how strongly each pair of variables is related. This is particularly useful in understanding complex interrelationships."
      ],
      "metadata": {
        "id": "DVPuT8LYZNRQ"
      }
    },
    {
      "cell_type": "markdown",
      "source": [
        "##### 2. What is/are the insight(s) found from the chart?"
      ],
      "metadata": {
        "id": "YPEH6qLeZNRQ"
      }
    },
    {
      "cell_type": "markdown",
      "source": [
        "Insights from the Heatmap\n",
        "Engine Size and Horsepower:\n",
        "\n",
        "Strong Positive Correlation (Close to +1): There is a strong positive correlation between engine size and horsepower. This indicates that as the engine size increases, the horsepower also tends to increase, which aligns with expectations in automotive engineering. This relationship may influence consumer preferences toward larger engines for higher performance.\n",
        "Engine Size and MPG:\n",
        "\n",
        "Negative Correlation with City MPG: Engine size shows a negative correlation with city MPG. This suggests that larger engines tend to consume more fuel in city driving conditions, likely due to lower efficiency and increased weight.\n",
        "Negative Correlation with Highway MPG: Similarly, there is a negative correlation with highway MPG, indicating that larger engines also tend to be less fuel-efficient on highways. This insight can inform consumers who prioritize fuel economy in their purchasing decisions.\n",
        "Horsepower and MPG:\n",
        "\n",
        "Negative Correlation with City MPG: Horsepower also demonstrates a negative correlation with city MPG, suggesting that vehicles with higher horsepower consume more fuel during city driving, possibly due to aggressive driving behaviors or larger engines.\n",
        "Negative Correlation with Highway MPG: The negative correlation with highway MPG indicates that higher horsepower is associated with lower fuel efficiency on highways as well. This can be critical information for consumers looking for a balance between power and fuel economy.\n",
        "Overall Trends:\n",
        "\n",
        "Performance vs. Efficiency: The insights suggest a trade-off between vehicle performance (horsepower and engine size) and fuel efficiency (MPG). Consumers who prioritize power and performance may need to consider the implications on fuel consumption and costs.\n"
      ],
      "metadata": {
        "id": "bfSqtnDqZNRR"
      }
    },
    {
      "cell_type": "markdown",
      "source": [
        "#### Chart - 15 - Pair Plot"
      ],
      "metadata": {
        "id": "q29F0dvdveiT"
      }
    },
    {
      "cell_type": "code",
      "source": [
        "# Pair Plot visualization code\n",
        "sns.pairplot(df)\n",
        "\n",
        "\n",
        "# Select relevant columns for the pairplot\n",
        "pairplot_columns = ['engine-size', 'horsepower', 'city-mpg', 'price', 'drive-wheels']\n",
        "\n",
        "# Create a pairplot\n",
        "sns.pairplot(df[pairplot_columns], hue='drive-wheels', palette='coolwarm', markers=['o', 's', 'D'])\n",
        "\n",
        "# Add title\n",
        "plt.suptitle('Pairplot of Engine Size, Horsepower, City MPG, and Price by Drivetrain Configuration', y=1.02)\n",
        "\n",
        "# Show the plot\n",
        "plt.show()\n"
      ],
      "metadata": {
        "id": "o58-TEIhveiU"
      },
      "execution_count": null,
      "outputs": []
    },
    {
      "cell_type": "markdown",
      "source": [
        "##### 1. Why did you pick the specific chart?"
      ],
      "metadata": {
        "id": "EXh0U9oCveiU"
      }
    },
    {
      "cell_type": "markdown",
      "source": [
        "Pairplots help detect interactions between variables and how they might behave under different categories, in this case, based on drivetrain configurations (e.g., RWD, FWD, AWD). By separating the data points by drivetrain, we can understand how different configurations affect key variables like price and performance."
      ],
      "metadata": {
        "id": "eMmPjTByveiU"
      }
    },
    {
      "cell_type": "markdown",
      "source": [
        "##### 2. What is/are the insight(s) found from the chart?"
      ],
      "metadata": {
        "id": "22aHeOlLveiV"
      }
    },
    {
      "cell_type": "markdown",
      "source": [
        "### Insights from the Pairplot (Engine Size, Horsepower, City MPG, and Price by Drivetrain Configuration)\n",
        "\n",
        "1. **Engine Size vs. Horsepower**:\n",
        "   - **Strong Positive Correlation**: Across all drivetrain types (FWD, RWD, AWD), larger engine sizes tend to produce more horsepower. This suggests that vehicles with bigger engines generally deliver higher performance, making engine size a good predictor of horsepower.\n",
        "\n",
        "2. **Engine Size vs. City MPG**:\n",
        "   - **Negative Correlation**: Vehicles with larger engines have lower city MPG (miles per gallon), indicating reduced fuel efficiency. This trend holds across all drivetrain configurations, but the impact might differ slightly (e.g., FWD may offer slightly better fuel efficiency than RWD or AWD).\n",
        "\n",
        "3. **Price vs. Horsepower**:\n",
        "   - **Positive Correlation**: Higher horsepower vehicles are generally more expensive, regardless of drivetrain. This is likely because more powerful engines are associated with performance and luxury, which adds to the vehicle's market value.\n",
        "\n",
        "4. **Price vs. Engine Size**:\n",
        "   - **Positive Correlation**: Larger engine sizes also correlate with higher prices. Vehicles with bigger engines (especially in RWD or AWD configurations) tend to be positioned in premium segments, reflecting their higher cost.\n",
        "\n",
        "5. **City MPG vs. Price**:\n",
        "   - **Inverse Relationship**: There is a negative relationship between city MPG and price, meaning less fuel-efficient cars (lower city MPG) tend to be more expensive. This is expected as higher-performance or luxury vehicles often sacrifice fuel efficiency for power and features.\n",
        "\n",
        "6. **Drivetrain-Specific Trends**:\n",
        "   - **RWD Vehicles**: Rear-wheel-drive (RWD) vehicles generally exhibit a broader range of engine sizes and horsepower, often leading to higher prices. This may reflect their prevalence in luxury or performance cars.\n",
        "   - **FWD Vehicles**: Front-wheel-drive (FWD) cars tend to have smaller engine sizes and are priced lower, likely because they are more fuel-efficient and cater to mass-market consumers.\n",
        "   - **AWD Vehicles**: All-wheel-drive (AWD) cars fall in between but may show slightly higher prices due to their added functionality for off-road or performance handling.\n",
        "\n",
        "### Conclusion:\n",
        "The pairplot shows clear positive correlations between engine size, horsepower, and price, while revealing the trade-offs with fuel efficiency (city MPG). These relationships help manufacturers and businesses target specific market segments, such as luxury vehicles with higher horsepower or fuel-efficient models for cost-conscious consumers. Understanding these insights can guide pricing strategies, design choices, and marketing approaches tailored to different consumer preferences based on drivetrain configurations."
      ],
      "metadata": {
        "id": "uPQ8RGwHveiV"
      }
    },
    {
      "cell_type": "markdown",
      "source": [
        "## **5. Solution to Business Objective**"
      ],
      "metadata": {
        "id": "JcMwzZxoAimU"
      }
    },
    {
      "cell_type": "markdown",
      "source": [
        "#### What do you suggest the client to achieve Business Objective ?\n",
        "Explain Briefly."
      ],
      "metadata": {
        "id": "8G2x9gOozGDZ"
      }
    },
    {
      "cell_type": "markdown",
      "source": [
        "### Business Recommendations Based on Data Analysis\n",
        "\n",
        "After analyzing the entire dataset and charts (correlation heatmaps, pair plots, regression plots, etc.), the following recommendations can help the client achieve their business objectives:\n",
        "\n",
        "---\n",
        "\n",
        "### **1. Product Strategy:**\n",
        "   - **Luxury vs. Economy Segmentation**:\n",
        "     - **Luxury Vehicles**: Focus on models with larger engines and higher horsepower, as these tend to have higher prices and appeal to consumers seeking performance and status (often with **RWD** and **AWD** configurations). Highlight the premium aspects of such cars, including advanced features, power, and design.\n",
        "     - **Economy Vehicles**: For fuel-efficient models (typically **FWD**), emphasize affordability and cost-effectiveness. These cars generally have smaller engines and lower horsepower, which could be marketed as eco-friendly and budget-conscious options.\n",
        "\n",
        "---\n",
        "\n",
        "### **2. Price Optimization:**\n",
        "   - **Engine Size and Horsepower as Price Drivers**: Since price correlates positively with engine size and horsepower, the business can consider segmenting its pricing model based on these attributes. Premium models with higher horsepower and larger engine sizes should be priced accordingly, positioning them as high-value, performance-driven products.\n",
        "   - **Fuel Type Impact**: Diesel vehicles with larger engines and higher prices (as seen in the bar plot) can be marketed for long-distance driving or specific high-end use cases, while gasoline models should cater to more general consumers.\n",
        "\n",
        "---\n",
        "\n",
        "### **3. Fuel Efficiency and Sustainability:**\n",
        "   - **Targeting Eco-Conscious Consumers**: With the global shift towards sustainability, the business should invest in models with better fuel efficiency (higher MPG, especially city MPG), which is seen as inversely correlated with engine size and price. Hybrid and electric models should also be part of the future product lineup to appeal to this growing segment.\n",
        "\n",
        "---\n",
        "\n",
        "### **4. Product Design Focus:**\n",
        "   - **Body Style Trends**: Sedans and hatchbacks dominate the market, making up the majority of sales, as indicated in the pie chart. Focusing on these body styles with variations (in fuel efficiency, power, and price) can capture a large market share.\n",
        "   - **Wagon and Convertible Market**: Although wagons and convertibles have smaller shares, there might be niche markets where these models are highly profitable. Marketing convertibles as luxury or leisure cars and wagons for families or outdoor activities could open new revenue streams.\n",
        "\n",
        "---\n",
        "\n",
        "### **5. Drive-Wheel Configuration Insights:**\n",
        "   - **RWD for Premium Segments**: Rear-wheel-drive (RWD) configurations generally have higher prices and cater to the luxury and performance segment. Continuing to develop premium features for these models will help differentiate the brand in this category.\n",
        "   - **FWD for Mass-Market Appeal**: Front-wheel-drive (FWD) vehicles are more cost-effective and efficient, making them ideal for broad consumer bases. The company should prioritize affordability and fuel efficiency for FWD models, along with marketing campaigns that emphasize these attributes.\n",
        "\n",
        "---\n",
        "\n",
        "### **6. Customer Insurance Risk Insights:**\n",
        "   - **Insurance-Based Offerings**: The insurance risk distribution suggests certain body styles, such as sedans and hatchbacks, have lower insurance risk ratings compared to others like convertibles. This insight could be leveraged to offer insurance packages or partner with insurance providers to give customers discounts on low-risk vehicles, improving the overall customer experience.\n",
        "\n",
        "---\n",
        "\n",
        "### **7. Negative Growth Concerns:**\n",
        "   - **High Horsepower Models with Low MPG**: A potential challenge is that high-horsepower models (especially RWD and AWD) are less fuel-efficient. With growing concerns about fuel prices and environmental impact, these models may face lower demand if not strategically positioned. As a result, consider mitigating this risk by introducing **hybrid** or **electric versions** of premium, high-horsepower cars.\n",
        "\n",
        "---\n",
        "\n",
        "### **8. Focus on Differentiation:**\n",
        "   - **Differentiation by Drivetrain**: The analysis of drive-wheel configurations and price shows that **RWD** and **AWD** are generally higher-priced due to performance. Focus on luxury features and driving experiences that can justify the higher price points, creating a unique selling proposition (USP) for these models.\n",
        "   - **Fuel Type Differentiation**: Fuel type also plays a significant role, as diesel vehicles tend to be priced higher. Diesel engines can be targeted toward markets that prioritize long-distance driving efficiency and durability, while gasoline models should focus on everyday urban driving.\n",
        "\n",
        "---\n",
        "\n",
        "### **9. Data-Driven Marketing Strategy:**\n",
        "   - **Body Style-Based Segmentation**: Since sedans and hatchbacks dominate the market, tailor marketing strategies to emphasize the strengths of each (comfort for sedans, versatility for hatchbacks). Use price data and performance insights to build campaigns targeting budget-conscious buyers for hatchbacks and mid-tier buyers for sedans.\n",
        "   - **Price Sensitivity**: Adjust pricing strategies according to vehicle features that directly impact consumer perception of value, such as engine power, fuel efficiency, and drivetrain configuration.\n",
        "\n",
        "---\n",
        "\n"
      ],
      "metadata": {
        "id": "pASKb0qOza21"
      }
    },
    {
      "cell_type": "markdown",
      "source": [
        "# **Conclusion**"
      ],
      "metadata": {
        "id": "gCX9965dhzqZ"
      }
    },
    {
      "cell_type": "markdown",
      "source": [
        "In summary, by strategically differentiating product lines based on **engine size**, **horsepower**, **fuel efficiency**, and **drivetrain configuration**, while addressing market trends for **luxury vs. economy vehicles**, the business can maximize revenue and market share. Introducing eco-friendly options and leveraging body style preferences, alongside risk-based insurance packages, can further enhance customer satisfaction and profitability.\n",
        "\n",
        "These insights will help achieve a **positive business impact**, driving growth by catering to diverse consumer needs, pricing strategically, and maintaining competitiveness in an evolving automotive market."
      ],
      "metadata": {
        "id": "Fjb1IsQkh3yE"
      }
    },
    {
      "cell_type": "markdown",
      "source": [
        "### ***Hurrah! You have successfully completed your EDA Capstone Project !!!***"
      ],
      "metadata": {
        "id": "gIfDvo9L0UH2"
      }
    }
  ]
}